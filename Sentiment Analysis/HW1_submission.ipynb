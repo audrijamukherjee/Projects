{
 "cells": [
  {
   "cell_type": "raw",
   "metadata": {
    "deletable": true,
    "editable": true
   },
   "source": [
    "!pip install beautifulsoup4\n",
    "!pip install matplotlib"
   ]
  },
  {
   "cell_type": "markdown",
   "metadata": {
    "deletable": true,
    "editable": true
   },
   "source": [
    "All import statements are here"
   ]
  },
  {
   "cell_type": "code",
   "execution_count": 318,
   "metadata": {
    "collapsed": true,
    "deletable": true,
    "editable": true
   },
   "outputs": [],
   "source": [
    "import re\n",
    "import nltk\n",
    "import time \n",
    "import pandas as pd\n",
    "import numpy as np\n",
    "np.seterr(divide='ignore', invalid='ignore')\n",
    "from bs4 import BeautifulSoup\n",
    "from nltk.corpus import stopwords\n",
    "import os\n",
    "from sklearn.feature_extraction.text import CountVectorizer\n",
    "from sklearn.feature_extraction.text import TfidfTransformer\n",
    "import pandas as pd\n",
    "import numpy as np\n",
    "import random\n",
    "import scipy.spatial.distance as distance\n",
    "import sklearn.metrics.pairwise as sk_dist\n",
    "import matplotlib\n",
    "import matplotlib.pyplot as plt\n",
    "from sklearn.model_selection import train_test_split\n",
    "from sklearn.svm import LinearSVC\n",
    "from sklearn.linear_model import LogisticRegression\n",
    "from sklearn.model_selection import learning_curve\n",
    "from scipy.sparse import csr_matrix\n",
    "from sklearn.metrics import roc_curve, auc\n",
    "from sklearn.model_selection import ShuffleSplit"
   ]
  },
  {
   "cell_type": "markdown",
   "metadata": {
    "deletable": true,
    "editable": true
   },
   "source": [
    "Block for Kaggle utility"
   ]
  },
  {
   "cell_type": "code",
   "execution_count": 319,
   "metadata": {
    "collapsed": true,
    "deletable": true,
    "editable": true
   },
   "outputs": [],
   "source": [
    "#!/usr/bin/env python\n",
    "\n",
    "class KaggleWord2VecUtility(object):\n",
    "    \"\"\"KaggleWord2VecUtility is a utility class for processing raw HTML text into segments for further learning\"\"\"\n",
    "\n",
    "    @staticmethod\n",
    "    def review_to_wordlist( review, remove_stopwords=False ):\n",
    "        # Function to convert a document to a sequence of words,\n",
    "        # optionally removing stop words.  Returns a list of words.\n",
    "        #\n",
    "        # 1. Remove HTML\n",
    "        review_text = BeautifulSoup(review, \"html.parser\").get_text()\n",
    "        #\n",
    "        # 2. Remove non-letters\n",
    "        review_text = re.sub(\"[^a-zA-Z]\",\" \", review_text)\n",
    "        #\n",
    "        # 3. Convert words to lower case and split them\n",
    "        words = review_text.lower().split()\n",
    "        #\n",
    "        # 4. Optionally remove stop words (false by default)\n",
    "        if remove_stopwords:\n",
    "            stops = set(stopwords.words(\"english\"))\n",
    "            words = [w for w in words if not w in stops]\n",
    "        #\n",
    "        # 5. Return a list of words\n",
    "        return(words)\n",
    "\n",
    "    # Define a function to split a review into parsed sentences\n",
    "    @staticmethod\n",
    "    def review_to_sentences( review, tokenizer, remove_stopwords=False ):\n",
    "        # Function to split a review into parsed sentences. Returns a\n",
    "        # list of sentences, where each sentence is a list of words\n",
    "        #\n",
    "        # 1. Use the NLTK tokenizer to split the paragraph into sentences\n",
    "        raw_sentences = tokenizer.tokenize(review.decode('utf8').strip())\n",
    "        #\n",
    "        # 2. Loop over each sentence\n",
    "        sentences = []\n",
    "        for raw_sentence in raw_sentences:\n",
    "            # If a sentence is empty, skip it\n",
    "            if len(raw_sentence) > 0:\n",
    "                # Otherwise, call review_to_wordlist to get a list of words\n",
    "                sentences.append( KaggleWord2VecUtility.review_to_wordlist( raw_sentence, \\\n",
    "                  remove_stopwords ))\n",
    "        #\n",
    "        # Return the list of sentences (each sentence is a list of words,\n",
    "        # so this returns a list of lists\n",
    "        return sentences"
   ]
  },
  {
   "cell_type": "markdown",
   "metadata": {
    "deletable": true,
    "editable": true
   },
   "source": [
    "The following block reads and cleans the train data file"
   ]
  },
  {
   "cell_type": "code",
   "execution_count": 320,
   "metadata": {
    "collapsed": false,
    "deletable": true,
    "editable": true
   },
   "outputs": [
    {
     "name": "stdout",
     "output_type": "stream",
     "text": [
      "[nltk_data] Downloading package stopwords to /root/nltk_data...\n",
      "[nltk_data]   Package stopwords is already up-to-date!\n",
      "Cleaned training data, created the bag of words...\n",
      "\n"
     ]
    }
   ],
   "source": [
    "train = pd.read_csv(\"./Data/labeledTrainData.tsv\", header=0, delimiter=\"\\t\", quoting=3)\n",
    "test = pd.read_csv(\"./Data/testData.tsv\", header=0, delimiter=\"\\t\", quoting=3 )\n",
    "\n",
    "nltk.download(['stopwords'])\n",
    "\n",
    "clean_train_reviews = []\n",
    "\n",
    "# Loop over each review; create an index i that goes from 0 to the length\n",
    "# of the movie review list\n",
    "for i in range( 0, len(train[\"review\"])):\n",
    "    clean_train_reviews.append(\" \".join(KaggleWord2VecUtility.review_to_wordlist(train[\"review\"][i], True)))\n",
    "\n",
    "# ****** Create a bag of words from the training set\n",
    "# Initialize the \"CountVectorizer\" object, aka bag of words.\n",
    "vectorizer = CountVectorizer(analyzer = \"word\", tokenizer = None, preprocessor = None,stop_words = None,max_features = 5000)\n",
    "print (\"Cleaned training data, created the bag of words...\\n\")"
   ]
  },
  {
   "cell_type": "markdown",
   "metadata": {
    "deletable": true,
    "editable": true
   },
   "source": [
    "Function to calculate the 3 remaining feature matrices from X_counts"
   ]
  },
  {
   "cell_type": "code",
   "execution_count": 321,
   "metadata": {
    "collapsed": true,
    "deletable": true,
    "editable": true
   },
   "outputs": [],
   "source": [
    "def calc_X_matrices(X_counts, train_set, istestset=False):\n",
    "    # calculating X_binary- modifies  X_counts  so that all elements are either 0 or 1\n",
    "    X_binary = X_counts\n",
    "    X_binary[X_counts > 0] = 1\n",
    "    \n",
    "    # calculating X_tfidf- modifies  X_counts  by applying the sklearn tfidf vectorizer\n",
    "    transformer = TfidfTransformer(smooth_idf=False)\n",
    "    X_tfidf = transformer.fit_transform(X_counts)\n",
    "    \n",
    "    #we can only calculate binary_imbalance for train data, we dont have labels for test data\n",
    "    if istestset==False:\n",
    "        # calculating X_binary_imbalance- deletes 75% of the rows corresponding to sentiment=1 from x_counts\n",
    "        indices = np.where(train['sentiment'] == 1)[0]  # indices of rows, having sentiment=1, or column=1\n",
    "        random.seed(0)\n",
    "\n",
    "        # number of indices with sentiment=1, might not be divisible by 4, hence using int()\n",
    "        rows_to_drop = random.sample(range(0, len(indices)), int(3 * len(indices) / 4))\n",
    "        X_binary_imbalance = np.delete(X_counts, rows_to_drop, 0)\n",
    "        train_set_imbalance=np.delete(np.array(train_set), rows_to_drop, 0)\n",
    "        train_df_imbalance=train_set.drop(train_set.index[rows_to_drop])\n",
    "        #also store the corresponding targets for training\n",
    "    else:\n",
    "        #for test data, we should be using only X_binary, so return None for X_binary_imbalance\n",
    "        X_binary_imbalance=None\n",
    "        train_set_imbalance=None\n",
    "        train_df_imbalance=None\n",
    "    return X_binary,X_tfidf,X_binary_imbalance, train_set_imbalance, train_df_imbalance"
   ]
  },
  {
   "cell_type": "code",
   "execution_count": 322,
   "metadata": {
    "collapsed": false,
    "deletable": true,
    "editable": true
   },
   "outputs": [
    {
     "name": "stdout",
     "output_type": "stream",
     "text": [
      "Calculated the 4 X matrices Wed Feb  8 22:45:49 2017\n"
     ]
    }
   ],
   "source": [
    "#calculating X_counts- entries contain the raw word counts\n",
    "#calculating X_counts outside function, since transform is different for test and train data\n",
    "X_counts = vectorizer.fit_transform(clean_train_reviews)\n",
    "X_counts = X_counts.toarray()\n",
    "\n",
    "X_binary, X_tfidf, X_binary_imbalance,train_set_imbalance, train_df_imbalance =calc_X_matrices(X_counts,train, False)\n",
    "\n",
    "print ('Calculated the 4 X matrices',time.ctime())"
   ]
  },
  {
   "cell_type": "markdown",
   "metadata": {
    "deletable": true,
    "editable": true
   },
   "source": [
    "Function definition to calculate Euclidean Distance between ith,jth row of design matrix"
   ]
  },
  {
   "cell_type": "code",
   "execution_count": 323,
   "metadata": {
    "collapsed": false,
    "deletable": true,
    "editable": true
   },
   "outputs": [],
   "source": [
    "def dist(X, i, j, distance_function=\"Euclidean\"):\n",
    "    d = distance.cdist(X[i][np.newaxis, :], X[j][np.newaxis, :], distance_function)\n",
    "    return d[0][0]"
   ]
  },
  {
   "cell_type": "code",
   "execution_count": 324,
   "metadata": {
    "collapsed": false,
    "deletable": true,
    "editable": true
   },
   "outputs": [
    {
     "name": "stdout",
     "output_type": "stream",
     "text": [
      "0.0\n"
     ]
    }
   ],
   "source": [
    "#sample call the dist function here\n",
    "print (dist(X_counts, 1, 1))"
   ]
  },
  {
   "cell_type": "markdown",
   "metadata": {
    "deletable": true,
    "editable": true
   },
   "source": [
    "Function definition of topk to return k closest pairs"
   ]
  },
  {
   "cell_type": "code",
   "execution_count": 325,
   "metadata": {
    "collapsed": false,
    "deletable": true,
    "editable": true
   },
   "outputs": [],
   "source": [
    "def topk(X, k):\n",
    "    #not using dist function defined above, because it will take a very long time to run for each i,j pair\n",
    "    #using pairwise_distances to calculate Euclidean distance between each i,j pair\n",
    "    dist_matrix=sk_dist.pairwise_distances(X)\n",
    "    \n",
    "    #since distance(i,j) = distance(j,i), making the bottom triangle of matrix 0, then will replace all 0s with infinity\n",
    "    #otherwise we would get i,j and j,i as the 2 minimum distance pairs\n",
    "    dist_matrix=np.triu(dist_matrix,k=0)\n",
    "    \n",
    "    #making all diagonal elements inf, since distance to itself is always 0\n",
    "    np.fill_diagonal(dist_matrix, 'inf' )\n",
    "    \n",
    "    #replace all zeros in the matrix for i!=j with inf, since these reviews are identical\n",
    "    #or they were set to 0 above by triu \n",
    "    dist_matrix[dist_matrix==0]='inf'\n",
    "    \n",
    "    min_ind=dist_matrix.argpartition(k,axis=None)[:k]\n",
    "    \n",
    "    X,Y = np.unravel_index(min_ind,dist_matrix.shape)\n",
    "    \n",
    "    min_ind_dist=[]\n",
    "    #appending each row [ix,jx,dx]\n",
    "    for i in range(0,k):\n",
    "        min_ind_dist.append([X[i],Y[i],dist_matrix[X[i],Y[i]]])\n",
    "        \n",
    "    #argpartition will only give the top k results, in unsorted order\n",
    "    #sorting them by distance\n",
    "    min_ind_dist.sort(key=lambda x:x[2])\n",
    "    return min_ind_dist"
   ]
  },
  {
   "cell_type": "markdown",
   "metadata": {
    "deletable": true,
    "editable": true
   },
   "source": [
    "The following block prints the closest 1 pair having minimum distance. It can be modified to run for k pairs. "
   ]
  },
  {
   "cell_type": "code",
   "execution_count": 343,
   "metadata": {
    "collapsed": false,
    "deletable": true,
    "editable": true
   },
   "outputs": [
    {
     "name": "stdout",
     "output_type": "stream",
     "text": [
      " \n"
     ]
    }
   ],
   "source": [
    "print('Order= Index 1 Index 2 distance 20 char of review 1 20 char of review 2 label of review 1 label of review 2')\n",
    "\n",
    "# calling topK on X_count to topk() to get the closest pair\n",
    "closest = topk(X_counts, 1)\n",
    "print('X_counts ', closest[0][0], closest[0][1], closest[0][2], train['review'].ix[closest[0][0]][:20],\\\n",
    "      train['review'].ix[closest[0][1]][:20], train['sentiment'].ix[closest[0][0]],train['sentiment'].ix[closest[0][1]])\n",
    "\n",
    "# calling topK on X_binary to topk() to get the closest pair\n",
    "closest = topk(X_binary, 1)\n",
    "print('X_binary ', closest[0][0], closest[0][1], closest[0][2], train['review'].ix[closest[0][0]][:20], \\\n",
    "      train['review'].ix[closest[0][1]][:20], train['sentiment'].ix[closest[0][0]], train['sentiment'].ix[closest[0][1]])\n",
    "\n",
    "# calling topK on X_tfidf to topk() to get the closest pair\n",
    "closest = topk(X_tfidf, 1)\n",
    "print('X_tfidf ', closest[0][0], closest[0][1], closest[0][2], train['review'].ix[closest[0][0]][:20], \\\n",
    "      train['review'].ix[closest[0][1]][:20], train['sentiment'].ix[closest[0][0]], train['sentiment'].ix[closest[0][1]])\n",
    "\n",
    "# calling topK on X_binary_imbalance to topk() to get the closest pair\n",
    "closest = topk(X_binary_imbalance, 1)\n",
    "print('X_binary_imbalance', closest[0][0], closest[0][1], closest[0][2], \\\n",
    "      train_set_imbalance[closest[0][0], 2][:20], train_set_imbalance[closest[0][1], 2][:20], \\\n",
    "      train_set_imbalance[closest[0][0], 1], train_set_imbalance[closest[0][1], 1])"
   ]
  },
  {
   "cell_type": "markdown",
   "metadata": {
    "deletable": true,
    "editable": true
   },
   "source": [
    "NOTE: Could not get pairwise_distances to run on the docker. Assuming 'find the closest review pairs' means print just 1 aka the closest pair. Removed all pairs having i=j or d=0 with i!=j. So none of the output review pairs will be exactly the same(having d=0). Ran it locally and the results are as follows:\n",
    "\n",
    "OUTPUT:\n",
    "Order= Index 1 Index 2 distance 20 char of review 1 20 char of review 2 label of review 1 label of review 2\n",
    "\n",
    "X_counts  2052 20915 1.0 \"Atlantis was much b \"Atlantis was much b 1 1\n",
    "\n",
    "X_binary  2052 20915 1.0 \"Atlantis was much b \"Atlantis was much b 1 1\n",
    "\n",
    "X_tfidf  6864 14534 0.0786737185534 \"Some have praised _ \"Some have praised - 0 0\n",
    "\n",
    "X_binary_imbalance 1923 9322 1.0 \"Kurt Russell is at  \"Kurt Russell is at 1 1\n",
    "\n",
    "They are not all the same."
   ]
  },
  {
   "cell_type": "markdown",
   "metadata": {
    "deletable": true,
    "editable": true
   },
   "source": [
    "Making X sparse matrix all 4 matrices"
   ]
  },
  {
   "cell_type": "code",
   "execution_count": 327,
   "metadata": {
    "collapsed": true,
    "deletable": true,
    "editable": true
   },
   "outputs": [],
   "source": [
    "X_counts = csr_matrix(X_counts)\n",
    "X_binary = csr_matrix(X_binary)\n",
    "X_tfidf = csr_matrix(X_tfidf)\n",
    "X_binary_imbalance = csr_matrix(X_binary_imbalance)"
   ]
  },
  {
   "cell_type": "markdown",
   "metadata": {
    "deletable": true,
    "editable": true
   },
   "source": [
    "Function to tune the C value for a Linear SVM model"
   ]
  },
  {
   "cell_type": "code",
   "execution_count": 328,
   "metadata": {
    "collapsed": false,
    "deletable": true,
    "editable": true
   },
   "outputs": [],
   "source": [
    "def tune_SVM(X_train, X_test, y_train, y_test,iterations=30): \n",
    "    scores_C=[]\n",
    "    C_list=[]\n",
    "    random.seed(0)\n",
    "\n",
    "    for i in range(0,iterations):\n",
    "        #generating a random value for the exponent of 10. \n",
    "        #This gives us a uniform random value generation over 1e-4 to 1e+4\n",
    "        C_curr=10**random.uniform(-4,4)\n",
    "        estimator = LinearSVC(C=C_curr,random_state=0)\n",
    "        train_sizes, train_scores, test_scores = learning_curve(estimator, X_train, y_train, cv=5, scoring='roc_auc')\n",
    "        C_list.append(C_curr)\n",
    "        scores_C.append(np.mean(test_scores))\n",
    "\n",
    "    #keep the value of C giving maximum roc_auc score\n",
    "    best_C= C_list[np.argmax(scores_C)]\n",
    "    print ('Lift between maximum and minimum ROC-AUC = ',np.max(scores_C)-np.min(scores_C))\n",
    "    return best_C, np.max(scores_C)"
   ]
  },
  {
   "cell_type": "markdown",
   "metadata": {
    "deletable": true,
    "editable": true
   },
   "source": [
    "The following block finds best model for each of the 4 matrices, prints the lift between the best and the worst ROC-AUC. And finds the best one among the 4 also. It calls tune_SVM for finding best C and returns them for each of the features aka matrices. "
   ]
  },
  {
   "cell_type": "code",
   "execution_count": 329,
   "metadata": {
    "collapsed": false,
    "deletable": true,
    "editable": true
   },
   "outputs": [
    {
     "name": "stdout",
     "output_type": "stream",
     "text": [
      "X_counts :Lift between maximum and minimum ROC-AUC =  0.0385290418944\n",
      "X_binary :Lift between maximum and minimum ROC-AUC =  0.0385290418944\n",
      "X_tfidf :Lift between maximum and minimum ROC-AUC =  0.0421528661511\n",
      "X_binary_imbalance :Lift between maximum and minimum ROC-AUC =  0.0324319420108\n",
      "X_tfidf  is best among the 4 X matrices, for C=  0.173569374988568\n"
     ]
    }
   ],
   "source": [
    "print ('X_counts :',end='')\n",
    "#tuning C for SVM for the X_counts\n",
    "# splitting into 80/20- train/test set\n",
    "XC_train, XC_test, yC_train, yC_test = train_test_split(X_counts, np.array(train['sentiment']), test_size = 0.2, random_state = 0)\n",
    "X_counts_C, X_counts_AUC=tune_SVM(XC_train, XC_test, yC_train, yC_test, 30)\n",
    "\n",
    "print ('X_binary :',end='')\n",
    "#tuning C for SVM for the X_binary\n",
    "XB_train, XB_test, yB_train, yB_test = train_test_split(X_binary, np.array(train['sentiment']), test_size = 0.2, random_state = 0)\n",
    "X_binary_C, X_binary_AUC=tune_SVM(XB_train, XB_test, yB_train, yB_test, 30)\n",
    "\n",
    "print ('X_tfidf :',end='')\n",
    "#tuning C for SVM for the X_tfidf\n",
    "XT_train, XT_test, yT_train, yT_test = train_test_split(X_tfidf, np.array(train['sentiment']), test_size = 0.2, random_state = 0)\n",
    "X_tfidf_C, X_tfidf_AUC=tune_SVM(XT_train, XT_test, yT_train, yT_test, 30)\n",
    "\n",
    "print ('X_binary_imbalance :',end='')\n",
    "#tuning C for SVM for the X_binary_imbalance\n",
    "XI_train, XI_test, yI_train, yI_test = train_test_split(X_binary_imbalance, np.array(train_df_imbalance['sentiment']), test_size = 0.2, random_state = 0)\n",
    "X_binary_imbalance_C, X_binary_imbalance_AUC=tune_SVM(XI_train, XI_test, yI_train, yI_test, 30)\n",
    "\n",
    "\n",
    "all_C=[X_counts_C,X_binary_C,X_tfidf_C,X_binary_imbalance_C]\n",
    "all_AUC=[X_counts_AUC,X_binary_AUC,X_tfidf_AUC,X_binary_imbalance_AUC]\n",
    "X_list= ['X_counts','X_binary','X_tfidf','X_binary_imbalance']\n",
    "\n",
    "print (X_list[np.argmax(all_AUC)], \" is best among the 4 X matrices, for C= \",all_C[np.argmax(all_AUC)])"
   ]
  },
  {
   "cell_type": "markdown",
   "metadata": {
    "deletable": true,
    "editable": true
   },
   "source": [
    "Retrain the classifiers using the 80% train data and best C values"
   ]
  },
  {
   "cell_type": "code",
   "execution_count": 330,
   "metadata": {
    "collapsed": false,
    "deletable": true,
    "editable": true
   },
   "outputs": [
    {
     "name": "stdout",
     "output_type": "stream",
     "text": [
      "retrained the classifiers on the 80% train data Wed Feb  8 23:18:21 2017\n"
     ]
    }
   ],
   "source": [
    "# Retrain the classifier on the 80% train data for X_counts\n",
    "X_counts_estimator = LinearSVC(C=X_counts_C, random_state=0).fit(XC_train,yC_train)\n",
    "\n",
    "# Retrain the classifier on the 80% train data for X_binary\n",
    "X_binary_estimator = LinearSVC(C=X_binary_C, random_state=0).fit(XB_train,yB_train)\n",
    "\n",
    "# Retrain the X_tfidf classifier on the 80% train data for X_tfidf\n",
    "X_tfidf_estimator = LinearSVC(C=X_tfidf_C, random_state=0).fit(XT_train,yT_train)\n",
    "\n",
    "# Retrain the classifier on the 80% train data for X_binary_imbalance_estimator\n",
    "X_binary_imbalance_estimator = LinearSVC(C=X_binary_imbalance_C, random_state=0).fit(XI_train,yI_train)\n",
    "print ('retrained the classifiers on the 80% train data', time.ctime())"
   ]
  },
  {
   "cell_type": "markdown",
   "metadata": {
    "deletable": true,
    "editable": true
   },
   "source": [
    "Plot the ROC curve for the 20% test data for each matrix"
   ]
  },
  {
   "cell_type": "code",
   "execution_count": 331,
   "metadata": {
    "collapsed": false,
    "deletable": true,
    "editable": true
   },
   "outputs": [
    {
     "name": "stdout",
     "output_type": "stream",
     "text": [
      "ROC area X_counts  0.872394879648\n"
     ]
    },
    {
     "data": {
      "image/png": "[encoded data removed]",
      "text/plain": [
       "<matplotlib.figure.Figure at 0x7fd7606ac588>"
      ]
     },
     "metadata": {},
     "output_type": "display_data"
    },
    {
     "name": "stdout",
     "output_type": "stream",
     "text": [
      "ROC area X_binary  0.872394879648\n"
     ]
    },
    {
     "data": {
      "image/png": "[encoded data removed]",
      "text/plain": [
       "<matplotlib.figure.Figure at 0x7fd762a53b38>"
      ]
     },
     "metadata": {},
     "output_type": "display_data"
    },
    {
     "name": "stdout",
     "output_type": "stream",
     "text": [
      "ROC area X_tfidf_estimator  0.885418880816\n"
     ]
    },
    {
     "data": {
      "image/png": "[encoded data removed]",
      "text/plain": [
       "<matplotlib.figure.Figure at 0x7fd76211a5f8>"
      ]
     },
     "metadata": {},
     "output_type": "display_data"
    },
    {
     "name": "stdout",
     "output_type": "stream",
     "text": [
      "ROC area X_binary_imbalance_estimator  0.870090939476\n"
     ]
    },
    {
     "data": {
      "image/png": "[encoded data removed]",
      "text/plain": [
       "<matplotlib.figure.Figure at 0x7fd762d1def0>"
      ]
     },
     "metadata": {},
     "output_type": "display_data"
    }
   ],
   "source": [
    "#plot ROC curve X_counts\n",
    "\n",
    "predicted_train = X_counts_estimator.predict(XC_test)\n",
    "fpr, tpr, thresholds = roc_curve(yC_test,predicted_train)\n",
    "roc_auc = auc(fpr, tpr)\n",
    "print (\"ROC area X_counts \",roc_auc)\n",
    "plt.title('ROC area X_counts %0.2f '%roc_auc)\n",
    "plt.plot(fpr, tpr, color='g', lw=2)\n",
    "plt.show()\n",
    "\n",
    "#plot ROC curve\n",
    "\n",
    "predicted_train = X_binary_estimator.predict(XB_test)\n",
    "fpr, tpr, thresholds = roc_curve(yB_test,predicted_train)\n",
    "roc_auc = auc(fpr, tpr)\n",
    "print (\"ROC area X_binary \", roc_auc)\n",
    "plt.title('ROC area X_binary %0.2f'%roc_auc)\n",
    "plt.plot(fpr, tpr, color='g', lw=2)\n",
    "plt.show()\n",
    "\n",
    "#plot ROC curve\n",
    "\n",
    "predicted_train = X_tfidf_estimator.predict(XT_test)\n",
    "fpr, tpr, thresholds = roc_curve(yT_test,predicted_train)\n",
    "roc_auc = auc(fpr, tpr)\n",
    "print (\"ROC area X_tfidf_estimator \", roc_auc)\n",
    "plt.title('ROC area X_tfidf_estimator %0.2f'%roc_auc)\n",
    "plt.plot(fpr, tpr, color='g', lw=2)\n",
    "plt.show()\n",
    "\n",
    "\n",
    "#plot ROC curve\n",
    "\n",
    "predicted_train = X_binary_imbalance_estimator.predict(XI_test)\n",
    "fpr, tpr, thresholds = roc_curve(yI_test,predicted_train)\n",
    "roc_auc = auc(fpr, tpr)\n",
    "print (\"ROC area X_binary_imbalance_estimator \", roc_auc)\n",
    "plt.title('ROC area X_binary_imbalance_estimator %0.2f'%roc_auc)\n",
    "plt.plot(fpr, tpr, color='g', lw=2)\n",
    "plt.show()"
   ]
  },
  {
   "cell_type": "markdown",
   "metadata": {
    "deletable": true,
    "editable": true
   },
   "source": [
    "Retrain the 4 classifiers using all the 100% train data"
   ]
  },
  {
   "cell_type": "code",
   "execution_count": 332,
   "metadata": {
    "collapsed": false,
    "deletable": true,
    "editable": true
   },
   "outputs": [
    {
     "name": "stdout",
     "output_type": "stream",
     "text": [
      "retrained all classifiers over 100% data Wed Feb  8 23:18:28 2017\n"
     ]
    }
   ],
   "source": [
    "# Retrain the classifier on the whole data for X_counts\n",
    "X_counts_estimator = LinearSVC(C=X_counts_C, random_state=0).fit(X_counts,np.array(train['sentiment']))\n",
    "\n",
    "# Retrain the classifier on the whole data for X_binary\n",
    "X_binary_estimator = LinearSVC(C=X_binary_C, random_state=0).fit(X_binary,np.array(train['sentiment']))\n",
    "\n",
    "# Retrain the X_tfidf classifier on the whole data for X_tfidf\n",
    "X_tfidf_estimator = LinearSVC(C=X_tfidf_C, random_state=0).fit(X_tfidf,np.array(train['sentiment']))\n",
    "\n",
    "# Retrain the classifier on the whole data for X_binary_imbalance_estimator\n",
    "X_binary_imbalance_estimator = LinearSVC(C=X_binary_imbalance_C, random_state=0).fit(X_binary_imbalance,np.array(train_df_imbalance['sentiment']))\n",
    "print ('retrained all classifiers over 100% data', time.ctime())"
   ]
  },
  {
   "cell_type": "markdown",
   "metadata": {
    "collapsed": true,
    "deletable": true,
    "editable": true
   },
   "source": [
    "The following block cleans the test data"
   ]
  },
  {
   "cell_type": "code",
   "execution_count": 333,
   "metadata": {
    "collapsed": false,
    "deletable": true,
    "editable": true
   },
   "outputs": [
    {
     "name": "stdout",
     "output_type": "stream",
     "text": [
      "Cleaned the test set movie reviews.\n",
      "\n"
     ]
    }
   ],
   "source": [
    "# Test data set processing\n",
    "\n",
    "# Create an empty list and append the clean reviews one by one\n",
    "clean_test_reviews = []\n",
    "for i in range(0,len(test[\"review\"])):\n",
    "    clean_test_reviews.append(\" \".join(KaggleWord2VecUtility.review_to_wordlist(test[\"review\"][i], True)))\n",
    "print (\"Cleaned the test set movie reviews.\\n\")"
   ]
  },
  {
   "cell_type": "markdown",
   "metadata": {
    "deletable": true,
    "editable": true
   },
   "source": [
    "Get a bag of words for the test set, and convert to a numpy array"
   ]
  },
  {
   "cell_type": "code",
   "execution_count": 334,
   "metadata": {
    "collapsed": true,
    "deletable": true,
    "editable": true
   },
   "outputs": [],
   "source": [
    "test_X_counts = vectorizer.transform(clean_test_reviews)\n",
    "test_X_counts = test_X_counts.toarray()"
   ]
  },
  {
   "cell_type": "markdown",
   "metadata": {
    "deletable": true,
    "editable": true
   },
   "source": [
    "Calculate the binary and tdidf matrices from test_X_counts matrix"
   ]
  },
  {
   "cell_type": "code",
   "execution_count": 335,
   "metadata": {
    "collapsed": false,
    "deletable": true,
    "editable": true
   },
   "outputs": [],
   "source": [
    "test_X_binary, test_X_tfidf, dummyA, dummyB, dummyC=calc_X_matrices(test_X_counts,None, True)"
   ]
  },
  {
   "cell_type": "markdown",
   "metadata": {
    "deletable": true,
    "editable": true
   },
   "source": [
    "Make the matrices sparse"
   ]
  },
  {
   "cell_type": "code",
   "execution_count": 336,
   "metadata": {
    "collapsed": true,
    "deletable": true,
    "editable": true
   },
   "outputs": [],
   "source": [
    "test_X_counts = csr_matrix(test_X_counts)\n",
    "test_X_binary = csr_matrix(test_X_binary)\n",
    "test_X_tfidf = csr_matrix(test_X_tfidf)"
   ]
  },
  {
   "cell_type": "markdown",
   "metadata": {
    "deletable": true,
    "editable": true
   },
   "source": [
    "Make predictions about the test data"
   ]
  },
  {
   "cell_type": "markdown",
   "metadata": {
    "deletable": true,
    "editable": true
   },
   "source": [
    "Function to make prediction for test data"
   ]
  },
  {
   "cell_type": "code",
   "execution_count": 337,
   "metadata": {
    "collapsed": false,
    "deletable": true,
    "editable": true
   },
   "outputs": [],
   "source": [
    "def make_prediction(X,test_X, estimator, X_type):\n",
    "    #X_type is for me to know which X matrix we are talking about\n",
    "    #predict sentiment for test set-test_X\n",
    "    predicted_test=estimator.predict(test_X)\n",
    "\n",
    "    # Copy the results to a pandas dataframe with an \"id\" column and a \"sentiment\" column\n",
    "    output = pd.DataFrame( data={\"id\":test[\"id\"], \"sentiment\":predicted_test} )\n",
    "\n",
    "    # Use pandas to write the comma-separated output file\n",
    "    output.to_csv('./Output_'+X_type+'.csv', index=False, quoting=3)\n",
    "    print (\"Wrote results to Output_\"+X_type+\".csv\", time.ctime())"
   ]
  },
  {
   "cell_type": "code",
   "execution_count": 338,
   "metadata": {
    "collapsed": false,
    "deletable": true,
    "editable": true
   },
   "outputs": [
    {
     "name": "stdout",
     "output_type": "stream",
     "text": [
      "Wrote results to Output_counts.csv Wed Feb  8 23:19:13 2017\n",
      "Wrote results to Output_binary.csv Wed Feb  8 23:19:13 2017\n",
      "Wrote results to Output_tfidf.csv Wed Feb  8 23:19:14 2017\n",
      "Wrote results to Output_binary_imbalance.csv Wed Feb  8 23:19:14 2017\n",
      "Created the files\n"
     ]
    }
   ],
   "source": [
    "make_prediction(X_counts,test_X_counts,X_counts_estimator,\"counts\")\n",
    "make_prediction(X_binary,test_X_binary,X_binary_estimator,\"binary\")\n",
    "make_prediction(X_tfidf,test_X_tfidf,X_tfidf_estimator,\"tfidf\")\n",
    "\n",
    "#test_X_binary_imbalance doesn't exist, using test_X_binary as input\n",
    "make_prediction(X_binary_imbalance,test_X_binary,X_binary_imbalance_estimator,\"binary_imbalance\")\n",
    "print (\"Created the files\")"
   ]
  },
  {
   "cell_type": "markdown",
   "metadata": {
    "deletable": true,
    "editable": true
   },
   "source": [
    "The Kaggle score using the 4 different predictions generated are:\n",
    "Counts matrix: 0.87296 \n",
    "Binary matrix: 0.87296.\n",
    "Tfidf matrix: 0.88068\n",
    "Imbalance matrix: 0.86808\n",
    "\n",
    "For Kaggle submissions the tdidf design matrix performed best"
   ]
  },
  {
   "cell_type": "markdown",
   "metadata": {
    "deletable": true,
    "editable": true
   },
   "source": [
    "Function for Part 4, to plot the learning curve"
   ]
  },
  {
   "cell_type": "code",
   "execution_count": 339,
   "metadata": {
    "collapsed": true,
    "deletable": true,
    "editable": true
   },
   "outputs": [],
   "source": [
    "def plot_learning_curve(X, y, train_sizes):\n",
    "\n",
    "    #plt.figure()\n",
    "    plt.title('Learning curve on X_counts')\n",
    "    plt.xlabel(\"Number of Training examples\")\n",
    "    plt.ylabel(\"Score\")\n",
    "    estimator=LogisticRegression()\n",
    "    train_sizes, train_scores, test_scores = learning_curve(estimator, X, y, cv=5, train_sizes=train_sizes)\n",
    "    train_scores_mean = np.mean(train_scores, axis=1)\n",
    "    test_scores_mean = np.mean(test_scores, axis=1)\n",
    "    plt.grid()\n",
    "    plt.plot(train_sizes, train_scores_mean, color=\"b\",label=\"Training score\",lw=2)\n",
    "    plt.plot(train_sizes, test_scores_mean, color=\"g\",label=\"Cross-validation score\",lw=2)\n",
    "    plt.legend(loc=\"best\")\n",
    "    plt.show()"
   ]
  },
  {
   "cell_type": "markdown",
   "metadata": {
    "deletable": true,
    "editable": true
   },
   "source": [
    "The following block plots the learning curve"
   ]
  },
  {
   "cell_type": "code",
   "execution_count": 340,
   "metadata": {
    "collapsed": false,
    "deletable": true,
    "editable": true
   },
   "outputs": [
    {
     "name": "stdout",
     "output_type": "stream",
     "text": [
      "part 4, plot the learning curve\n"
     ]
    },
    {
     "data": {
      "image/png": "[encoded data removed]",
      "text/plain": [
       "<matplotlib.figure.Figure at 0x7fd7606c58d0>"
      ]
     },
     "metadata": {},
     "output_type": "display_data"
    }
   ],
   "source": [
    "print (\"part 4, plot the learning curve\")\n",
    "number_train = [100, 500, 1000, 2000, 3000, 4000, 5000, 7500, 10000, 15000, 20000]\n",
    "plot_learning_curve(X_counts,np.array(train['sentiment']),number_train)"
   ]
  }
 ],
 "metadata": {
  "kernelspec": {
   "display_name": "Python 2",
   "language": "python",
   "name": "python2"
  },
  "language_info": {
   "codemirror_mode": {
    "name": "ipython",
    "version": 2
   },
   "file_extension": ".py",
   "mimetype": "text/x-python",
   "name": "python",
   "nbconvert_exporter": "python",
   "pygments_lexer": "ipython2",
   "version": "2.7.13"
  }
 },
 "nbformat": 4,
 "nbformat_minor": 0
}
