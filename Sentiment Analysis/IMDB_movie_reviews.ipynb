{
 "cells": [
  {
   "cell_type": "code",
   "execution_count": 72,
   "metadata": {
    "collapsed": true,
    "deletable": true,
    "editable": true
   },
   "outputs": [],
   "source": [
    "import pandas as pd\n",
    "import os\n",
    "import re\n",
    "from gensim import models\n",
    "from bs4 import BeautifulSoup\n",
    "from nltk.corpus import stopwords\n",
    "import nltk.data\n",
    "import logging\n",
    "import numpy as np  # Make sure that numpy is imported\n",
    "from gensim.models import Word2Vec\n",
    "from sklearn.ensemble import RandomForestClassifier\n",
    "import re\n",
    "import nltk\n",
    "import time\n",
    "np.seterr(divide='ignore', invalid='ignore')\n",
    "import os\n",
    "from sklearn.feature_extraction.text import CountVectorizer\n",
    "from sklearn.feature_extraction.text import TfidfTransformer\n",
    "import pandas as pd\n",
    "import numpy as np\n",
    "import random\n",
    "import scipy.spatial.distance as distance\n",
    "import matplotlib\n",
    "import matplotlib.pyplot as plt\n",
    "from sklearn.model_selection import train_test_split\n",
    "from sklearn.model_selection import learning_curve\n",
    "from scipy.sparse import csr_matrix\n",
    "from sklearn.metrics import roc_curve, auc\n",
    "from sklearn.model_selection import ShuffleSplit\n",
    "from sklearn.cluster import KMeans"
   ]
  },
  {
   "cell_type": "code",
   "execution_count": 73,
   "metadata": {
    "collapsed": true,
    "deletable": true,
    "editable": true
   },
   "outputs": [],
   "source": [
    "class KaggleWord2VecUtility(object):\n",
    "    \"\"\"KaggleWord2VecUtility is a utility class for processing raw HTML text into segments for further learning\"\"\"\n",
    "\n",
    "    @staticmethod\n",
    "    def review_to_wordlist( review, remove_stopwords=False ):\n",
    "        # Function to convert a document to a sequence of words,\n",
    "        # optionally removing stop words.  Returns a list of words.\n",
    "        #\n",
    "        # 1. Remove HTML\n",
    "        review_text = BeautifulSoup(review).get_text()\n",
    "        #\n",
    "        # 2. Remove non-letters\n",
    "        review_text = re.sub(\"[^a-zA-Z]\",\" \", review_text)\n",
    "        #\n",
    "        # 3. Convert words to lower case and split them\n",
    "        words = review_text.lower().split()\n",
    "        #\n",
    "        # 4. Optionally remove stop words (false by default)\n",
    "        if remove_stopwords:\n",
    "            stops = set(stopwords.words(\"english\"))\n",
    "            words = [w for w in words if not w in stops]\n",
    "        #\n",
    "        # 5. Return a list of words\n",
    "        return(words)\n",
    "\n",
    "    # Define a function to split a review into parsed sentences\n",
    "    @staticmethod\n",
    "    def review_to_sentences( review, tokenizer, remove_stopwords=False ):\n",
    "        # Function to split a review into parsed sentences. Returns a\n",
    "        # list of sentences, where each sentence is a list of words\n",
    "        #\n",
    "        # 1. Use the NLTK tokenizer to split the paragraph into sentences\n",
    "        raw_sentences = tokenizer.tokenize(review.decode('utf8').strip())\n",
    "        #\n",
    "        # 2. Loop over each sentence\n",
    "        sentences = []\n",
    "        for raw_sentence in raw_sentences:\n",
    "            # If a sentence is empty, skip it\n",
    "            if len(raw_sentence) > 0:\n",
    "                # Otherwise, call review_to_wordlist to get a list of words\n",
    "                sentences.append( KaggleWord2VecUtility.review_to_wordlist( raw_sentence, \\\n",
    "                  remove_stopwords ))\n",
    "        #\n",
    "        # Return the list of sentences (each sentence is a list of words,\n",
    "        # so this returns a list of lists\n",
    "        return sentences"
   ]
  },
  {
   "cell_type": "code",
   "execution_count": 74,
   "metadata": {
    "collapsed": true,
    "deletable": true,
    "editable": true
   },
   "outputs": [],
   "source": [
    "# ****** Define functions to create average word vectors\n",
    "#\n",
    "\n",
    "def makeFeatureVec(words, model, num_features):\n",
    "    # Function to average all of the word vectors in a given\n",
    "    # paragraph\n",
    "    #\n",
    "    # Pre-initialize an empty numpy array (for speed)\n",
    "    featureVec = np.zeros((num_features,),dtype=\"float32\")\n",
    "    #\n",
    "    nwords = 0.\n",
    "    #\n",
    "    # Index2word is a list that contains the names of the words in\n",
    "    # the model's vocabulary. Convert it to a set, for speed\n",
    "    index2word_set = set(model.wv.index2word)\n",
    "    #\n",
    "    # Loop over each word in the review and, if it is in the model's\n",
    "    # vocaublary, add its feature vector to the total\n",
    "    for word in words:\n",
    "        if word in index2word_set:\n",
    "            nwords = nwords + 1.\n",
    "            featureVec = np.add(featureVec,model[word])\n",
    "    #\n",
    "    # Divide the result by the number of words to get the average\n",
    "    featureVec = np.divide(featureVec,nwords)\n",
    "    return featureVec\n",
    "\n",
    "\n",
    "def getAvgFeatureVecs(reviews, model, num_features):\n",
    "    # Given a set of reviews (each one a list of words), calculate\n",
    "    # the average feature vector for each one and return a 2D numpy array\n",
    "    #\n",
    "    # Initialize a counter\n",
    "    counter = 0.\n",
    "    #\n",
    "    # Preallocate a 2D numpy array, for speed\n",
    "    reviewFeatureVecs = np.zeros((len(reviews),num_features),dtype=\"float32\")\n",
    "    #\n",
    "    # Loop through the reviews\n",
    "    for review in reviews:\n",
    "       #\n",
    "       # Print a status message every 1000th review\n",
    "       #if counter%1000. == 0.:\n",
    "           #print \"Review %d of %d\" % (counter, len(reviews))\n",
    "       #\n",
    "       # Call the function (defined above) that makes average feature vectors\n",
    "       reviewFeatureVecs[int(counter)] = makeFeatureVec(review, model, \\\n",
    "           num_features)\n",
    "       #\n",
    "       # Increment the counter\n",
    "       counter = counter + 1.\n",
    "    return reviewFeatureVecs\n",
    "\n",
    "\n",
    "def getCleanReviews(reviews):\n",
    "    clean_reviews = []\n",
    "    for review in reviews[\"review\"]:\n",
    "        clean_reviews.append( KaggleWord2VecUtility.review_to_wordlist( review, remove_stopwords=True ))\n",
    "    return clean_reviews"
   ]
  },
  {
   "cell_type": "code",
   "execution_count": 75,
   "metadata": {
    "collapsed": true,
    "deletable": true,
    "editable": true
   },
   "outputs": [],
   "source": [
    "#turning off logging for INFO level messages, there are too many\n",
    "import logging\n",
    "logging.basicConfig(format='%(levelname)s : %(message)s', level=logging.FATAL)\n",
    "logging.root.level = logging.FATAL  # ipython sometimes messes up the logging setup; restore"
   ]
  },
  {
   "cell_type": "code",
   "execution_count": 77,
   "metadata": {
    "collapsed": false,
    "deletable": true,
    "editable": true
   },
   "outputs": [
    {
     "name": "stdout",
     "output_type": "stream",
     "text": [
      "Read 25000 labeled train reviews, 25000 labeled test reviews, and 50000 unlabeled reviews\n",
      "\n"
     ]
    }
   ],
   "source": [
    "# Read data from files\n",
    "train = pd.read_csv('./data/labeledTrainData.tsv', header=0, delimiter=\"\\t\", quoting=3 )\n",
    "test = pd.read_csv('./data/testData.tsv', header=0, delimiter=\"\\t\", quoting=3 )\n",
    "unlabeled_train = pd.read_csv('./data/unlabeledTrainData.tsv', header=0,  delimiter=\"\\t\", quoting=3 )\n",
    "\n",
    "# Verify the number of reviews that were read (100,000 in total)\n",
    "print (\"Read %d labeled train reviews, %d labeled test reviews, \" \\\n",
    " \"and %d unlabeled reviews\\n\" % (train[\"review\"].size,\n",
    " test[\"review\"].size, unlabeled_train[\"review\"].size ))"
   ]
  },
  {
   "cell_type": "code",
   "execution_count": 78,
   "metadata": {
    "collapsed": false,
    "deletable": true,
    "editable": true
   },
   "outputs": [
    {
     "name": "stdout",
     "output_type": "stream",
     "text": [
      "Parsing sentences from training set\n",
      "Parsing sentences from unlabeled set\n"
     ]
    }
   ],
   "source": [
    "# Load the punkt tokenizer\n",
    "tokenizer = nltk.data.load('tokenizers/punkt/english.pickle')\n",
    "\n",
    "\n",
    "# ****** Split the labeled and unlabeled training sets into clean sentences\n",
    "#\n",
    "sentences = []  # Initialize an empty list of sentences\n",
    "\n",
    "print (\"Parsing sentences from training set\")\n",
    "for review in train[\"review\"]:\n",
    "    sentences += KaggleWord2VecUtility.review_to_sentences(review, tokenizer)\n",
    "\n",
    "print (\"Parsing sentences from unlabeled set\")\n",
    "for review in unlabeled_train[\"review\"]:\n",
    "    sentences += KaggleWord2VecUtility.review_to_sentences(review, tokenizer)"
   ]
  },
  {
   "cell_type": "code",
   "execution_count": 3,
   "metadata": {
    "collapsed": false,
    "deletable": true,
    "editable": true
   },
   "outputs": [
    {
     "name": "stdout",
     "output_type": "stream",
     "text": [
      "Training Word2Vec model...\n"
     ]
    }
   ],
   "source": [
    "# ****** Set parameters and train the word2vec model\n",
    "#\n",
    "\n",
    "# Set values for various parameters\n",
    "num_features = 100    # Word vector dimensionality=embedding dimension\n",
    "min_word_count = 40   # Minimum word count\n",
    "num_workers = 4       # Number of threads to run in parallel\n",
    "context = 5          # Context window size\n",
    "downsampling = 1e-3   # Downsample setting for frequent words\n",
    "\n",
    "# Initialize and train the model (this will take some time)\n",
    "print (\"Training Word2Vec model...\")\n",
    "model = Word2Vec(sentences, workers=num_workers, \\\n",
    "            size=num_features, min_count = min_word_count, \\\n",
    "            window = context, sample = downsampling, seed=1)\n",
    "\n",
    "# If you don't plan to train the model any further, calling\n",
    "# init_sims will make the model much more memory-efficient.\n",
    "model.init_sims(replace=True)\n",
    "\n",
    "# It can be helpful to create a meaningful model name and\n",
    "# save the model for later use. You can load it later using Word2Vec.load()\n",
    "Z1=model.wv.syn0"
   ]
  },
  {
   "cell_type": "code",
   "execution_count": 80,
   "metadata": {
    "collapsed": false,
    "deletable": true,
    "editable": true
   },
   "outputs": [
    {
     "name": "stderr",
     "output_type": "stream",
     "text": [
      "/Library/Frameworks/Python.framework/Versions/2.7/lib/python2.7/site-packages/ipykernel_launcher.py:13: FutureWarning: comparison to `None` will result in an elementwise object comparison in the future.\n",
      "  del sys.path[0]\n"
     ]
    },
    {
     "name": "stdout",
     "output_type": "stream",
     "text": [
      "((15181, 300), 15181)\n"
     ]
    }
   ],
   "source": [
    "#Getting Google's word2vec model\n",
    "model_g = models.KeyedVectors.load_word2vec_format('GoogleNews-vectors-negative300.bin', binary=True)\n",
    "\n",
    "#filtering the words to keep only the ones that occur in the smaller model\n",
    "all_google_words=model_g.vocab.keys()\n",
    "Z2=None\n",
    "new_vocab_g=[]\n",
    "all_indices=[]\n",
    "for i in range(0,len(model_g.vocab)):\n",
    "    if all_google_words[i] in model.wv.vocab:\n",
    "        #print all_google_words[i]\n",
    "        all_indices.append(i)\n",
    "        if Z2==None:\n",
    "            Z2=model_g.syn0[i]\n",
    "            new_vocab_g.append(all_google_words[i])\n",
    "        else:\n",
    "            Z2=np.vstack((Z2,model_g.syn0[i]))\n",
    "            new_vocab_g.append(all_google_words[i])\n",
    "print (Z2.shape,len(new_vocab_g))"
   ]
  },
  {
   "cell_type": "markdown",
   "metadata": {
    "deletable": true,
    "editable": true
   },
   "source": [
    "**NOTE** Doing K-means clustering on Z1 and Z2 using number of clusters=100 because it gives good clusters for Z1, and average #words per cluster is ~160 (if we use K=10, there would be ~1600 words per cluster on an average)"
   ]
  },
  {
   "cell_type": "code",
   "execution_count": 88,
   "metadata": {
    "collapsed": false,
    "deletable": true,
    "editable": true
   },
   "outputs": [
    {
     "name": "stdout",
     "output_type": "stream",
     "text": [
      " Running K means on Z1\n",
      "printing 20 closest words to each cluster center for Z1...\n",
      "\n",
      "Cluster 0  :  [u'repressed' u'controlling' u'suicidal' u'confronting' u'sacrificing'\n",
      " u'reckless' u'wayward' u'abuses' u'abusing' u'ada' u'impotent'\n",
      " u'embittered' u'brutish' u'illicit' u'injecting' u'heartbroken'\n",
      " u'uncaring' u'adopting' u'mistreated' u'ruthlessly']\n",
      "Cluster 1  :  [u'larry' u'jay' u'lawrence' u'phil' u'ernest' u'doug' u'freddie' u'sid'\n",
      " u'nolan' u'bauer' u'randall' u'nash' u'mcdonald' u'sr' u'lau' u'starr'\n",
      " u'maguire' u'brodie' u'mckay' u'cummings']\n",
      "Cluster 2  :  [u'hypocrisy' u'hysteria' u'alienation' u'alcoholism' u'patriotism'\n",
      " u'societal' u'depravity' u'repression' u'spirituality' u'intolerance'\n",
      " u'aggression' u'bigotry' u'sadism' u'misogyny' u'persecution'\n",
      " u'degradation' u'harassment' u'obsessions' u'voyeurism' u'conformity']\n",
      "Cluster 3  :  [u'manipulative' u'neurotic' u'smug' u'unstable' u'overbearing'\n",
      " u'conflicted' u'insecure' u'bitchy' u'stubborn' u'perpetually'\n",
      " u'effeminate' u'callous' u'aloof' u'frail' u'unbalanced' u'befuddled'\n",
      " u'sullen' u'abrasive' u'brutish' u'impulsive']\n",
      "Cluster 4  :  [u'vhs' u'disc' u'amazon' u'cd' u'sale' u'stores' u'dvds' u'tapes'\n",
      " u'youtube' u'netflix' u'shelves' u'videotape' u'logo' u'criterion'\n",
      " u'bootleg' u'remastered' u'recorder' u'discs' u'kino' u'hd']\n",
      "Cluster 5  :  [u'operation' u'squad' u'facility' u'confederate' u'laboratory' u'missile'\n",
      " u'naval' u'allied' u'colony' u'personnel' u'vessel' u'mines' u'invading'\n",
      " u'bomber' u'smuggling' u'headquarters' u'imperial' u'overthrow' u'bureau'\n",
      " u'outpost']\n",
      "Cluster 6  :  [u'hercules' u'stargate' u'robocop' u'smallville' u'lotr' u'gladiator'\n",
      " u'sg' u'gamera' u'tremors' u'dynasty' u'poltergeist' u'tng' u'solaris'\n",
      " u'barbera' u'ds' u'creepshow' u'amicus' u'pinocchio' u'scanners'\n",
      " u'zatoichi']\n",
      "Cluster 7  :  [u'limited' u'technical' u'significant' u'slight' u'reasonable' u'specific'\n",
      " u'minimal' u'primary' u'questionable' u'consistent' u'distinct' u'vital'\n",
      " u'glaring' u'substantial' u'deliberate' u'inherent' u'factual' u'valid'\n",
      " u'fundamental' u'thematic']\n",
      "Cluster 8  :  [u'catherine' u'diana' u'frances' u'gloria' u'lauren' u'lynn' u'christina'\n",
      " u'samantha' u'penelope' u'swanson' u'bacall' u'morton' u'isabelle'\n",
      " u'jeanne' u'loren' u'katharine' u'elisabeth' u'vivian' u'lili' u'dench']\n",
      "Cluster 9  :  [u'teeth' u'legs' u'neck' u'arm' u'nose' u'pants' u'finger' u'chest'\n",
      " u'fingers' u'shoulder' u'toe' u'knees' u'forehead' u'crotch' u'fists'\n",
      " u'torso' u'eyeballs' u'wrist' u'wrists' u'trousers']\n"
     ]
    }
   ],
   "source": [
    "# Q1 c- Kmeans clustering\n",
    "from sklearn.cluster import KMeans\n",
    "# Set \"k\" =100\n",
    "# average of ~160 words per cluster since there are 16000 words approximately\n",
    "num_clusters = 100  #change  word_vectors.shape[0] / 20\n",
    "\n",
    "# Initalize a k-means object and use it to extract centroids\n",
    "print \"Running K means on Z1\"\n",
    "kmeans_clustering = KMeans( n_clusters = num_clusters )\n",
    "idx = kmeans_clustering.fit_predict( Z1 )\n",
    "\n",
    "# Create a Word / Index dictionary, mapping each vocabulary word to\n",
    "# a cluster number\n",
    "word_centroid_map = dict(zip( model.wv.index2word, idx ))\n",
    "\n",
    "# Print the closest 20 words to the centroid\n",
    "#for each cluster get the distance of each point to the cluster center\n",
    "print \"printing 20 closest words to each cluster center for Z1...\\n\"\n",
    "for c in range(0,10):\n",
    "    dist=kmeans_clustering.transform(Z1)[:,c]\n",
    "    indices=np.argpartition(dist,20) #since we want only the 20 closest words\n",
    "    sorted_indices=np.sort(indices[0:20])\n",
    "    #print sorted_indices\n",
    "    print \"Cluster\",c,\" : \",np.array(model.wv.index2word)[sorted_indices]"
   ]
  },
  {
   "cell_type": "code",
   "execution_count": 95,
   "metadata": {
    "collapsed": false,
    "deletable": true,
    "editable": true
   },
   "outputs": [
    {
     "name": "stdout",
     "output_type": "stream",
     "text": [
      "Running K means on Z2\n",
      "printing 20 closest words to the first 10 cluster centers for Z2...\n",
      "\n",
      "Cluster 0  :  [u'sadness' u'butterfly' u'mona' u'arriving' u'carbon' u'listener'\n",
      " u'hampered' u'touched' u'dates' u'verge' u'wolf' u'abound' u'gracefully'\n",
      " u'sees' u'sludge' u'na' u'consultant' u'believers' u'sweetheart'\n",
      " u'bubblegum']\n",
      "Cluster 1  :  [u'strategy' u'motives' u'quo' u'raunchy' u'balloon' u'spectrum' u'watcher'\n",
      " u'vancouver' u'singer' u'na' u'tug' u'flows' u'sleepwalking' u'believers'\n",
      " u'nifty' u'thumbs' u'start' u'seamlessly' u'justify' u'femme']\n",
      "Cluster 2  :  [u'unfolding' u'plumber' u'trio' u'flooded' u'pam' u'sordid' u'vivek'\n",
      " u'cloying' u'pacifist' u'cough' u'syndicate' u'rewritten' u'prequels'\n",
      " u'floor' u'corners' u'risky' u'arranges' u'reversed' u'tip' u'straight']\n",
      "Cluster 3  :  [u'socially' u'tibet' u'awake' u'jan' u'reclaim' u'docu' u'happening'\n",
      " u'consultant' u'injects' u'dangling' u'tightrope' u'elitist' u'badass'\n",
      " u'sylvia' u'hinges' u'hacker' u'janice' u'bach' u'subconscious'\n",
      " u'dragging']\n",
      "Cluster 4  :  [u'district' u'ursula' u'solitude' u'feeble' u'commands' u'retains'\n",
      " u'medical' u'misfits' u'transparent' u'arrow' u'walks' u'fave' u'visually'\n",
      " u'examine' u'outbreak' u'occasionally' u'architecture' u'ineptly'\n",
      " u'shenanigans' u'survive']\n",
      "Cluster 5  :  [u'packs' u'community' u'gentle' u'decoys' u'tested' u'videos' u'grandma'\n",
      " u'surprise' u'mundane' u'ira' u'stayed' u'mishaps' u'el' u'battle'\n",
      " u'neglect' u'commitment' u'afghanistan' u'automatically' u'completely'\n",
      " u'layers']\n",
      "Cluster 6  :  [u'district' u'decides' u'ursula' u'solitude' u'retains' u'appear'\n",
      " u'medical' u'misfits' u'transparent' u'adults' u'walks' u'airplane'\n",
      " u'chip' u'mia' u'film' u'devon' u'stuffing' u'lasting' u'architecture'\n",
      " u'shenanigans']\n",
      "Cluster 7  :  [u'primary' u'rupert' u'tim' u'include' u'humdrum' u'scarcely' u'adores'\n",
      " u'ouch' u'promisingly' u'nina' u'departments' u'armor' u'temperature'\n",
      " u'revue' u'ponder' u'accompaniment' u'interview' u'frightening' u'tunes'\n",
      " u'applied']\n",
      "Cluster 8  :  [u'district' u'decides' u'ursula' u'feeble' u'amateurish' u'retains'\n",
      " u'proprietor' u'www' u'defending' u'medical' u'appeared' u'misfits'\n",
      " u'loan' u'adults' u'teresa' u'lock' u'kinds' u'missy' u'architecture'\n",
      " u'shenanigans']\n",
      "Cluster 9  :  [u'popular' u'stadium' u'aliens' u'tombstone' u'rednecks' u'biggest'\n",
      " u'walt' u'chooses' u'supply' u'sympathy' u'eerily' u'swing' u'wraps'\n",
      " u'native' u'determined' u'christ' u'spills' u'immersed' u'talkie' u'leung']\n"
     ]
    }
   ],
   "source": [
    "print (\"Running K means on Z2\")\n",
    "kmeans_clustering_g = KMeans( n_clusters = num_clusters )\n",
    "idx_g = kmeans_clustering_g.fit_predict( Z2 )\n",
    "\n",
    "# Create a Word / Index dictionary, mapping each vocabulary word to\n",
    "# a cluster number\n",
    "word_centroid_map_g = dict(zip( new_vocab_g, idx_g ))\n",
    "\n",
    "# Print the closest 20 words to the centroid\n",
    "#for each cluster get the distance of each point to the cluster center\n",
    "print (\"printing 20 closest words to the first 10 cluster centers for Z2...\\n\")\n",
    "for c in range(0,10):\n",
    "    dist=kmeans_clustering_g.transform(Z2)[:,c]\n",
    "    indices=np.argpartition(dist,20) #since we want only the 20 closest words\n",
    "    sorted_indices=np.sort(indices[0:20])\n",
    "    #print sorted_indices\n",
    "    print (\"Cluster\",c,\" : \",np.array(new_vocab_g)[sorted_indices])"
   ]
  },
  {
   "cell_type": "code",
   "execution_count": 89,
   "metadata": {
    "collapsed": false,
    "deletable": true,
    "editable": true
   },
   "outputs": [
    {
     "name": "stdout",
     "output_type": "stream",
     "text": [
      "Cleaning training reviews\n",
      "Cleaning test reviews\n",
      "Done\n"
     ]
    }
   ],
   "source": [
    "#clean train and test reviews\n",
    "print (\"Cleaning training reviews\")\n",
    "clean_train_reviews = []\n",
    "for review in train[\"review\"]:\n",
    "    clean_train_reviews.append( KaggleWord2VecUtility.review_to_wordlist( review, \\\n",
    "        remove_stopwords=True ))\n",
    "\n",
    "print (\"Cleaning test reviews\")\n",
    "clean_test_reviews = []\n",
    "for review in test[\"review\"]:\n",
    "    clean_test_reviews.append( KaggleWord2VecUtility.review_to_wordlist( review, \\\n",
    "        remove_stopwords=True ))\n",
    "\n",
    "print (\"Done\")"
   ]
  },
  {
   "cell_type": "code",
   "execution_count": 90,
   "metadata": {
    "collapsed": false,
    "deletable": true,
    "editable": true
   },
   "outputs": [
    {
     "name": "stdout",
     "output_type": "stream",
     "text": [
      "creating X1, X1_test\n",
      "creating X2, X2_test\n",
      "Done\n"
     ]
    }
   ],
   "source": [
    "# Q1 Part d- Transform the training set, test set reviews into bags of centroids\n",
    "\n",
    "# Define a function to create bags of centroids\n",
    "#\n",
    "\n",
    "def create_bag_of_centroids( wordlist, word_centroid_map ):\n",
    "    #\n",
    "    # The number of clusters is equal to the highest cluster index\n",
    "    # in the word / centroid map\n",
    "    num_centroids = max( word_centroid_map.values() ) + 1\n",
    "    #\n",
    "    # Pre-allocate the bag of centroids vector (for speed)\n",
    "    bag_of_centroids = np.zeros( num_centroids, dtype=\"float32\" )\n",
    "    #\n",
    "    # Loop over the words in the review. If the word is in the vocabulary,\n",
    "    # find which cluster it belongs to, and increment that cluster count\n",
    "    # by one\n",
    "    for word in wordlist:\n",
    "        if word in word_centroid_map:\n",
    "            index = word_centroid_map[word]\n",
    "            bag_of_centroids[index] += 1\n",
    "    #\n",
    "    # Return the \"bag of centroids\"\n",
    "    return bag_of_centroids\n",
    "\n",
    "#although we do the lda modeling for unlabelled and labelled training set\n",
    "# we train the random forest only on the labelled train set, so take just that many\n",
    "\n",
    "print (\"creating X1, X1_test\")\n",
    "#create X1, X1_test\n",
    "#  Pre-allocate an array for the training set bags of centroids (for speed)\n",
    "X1 = np.zeros( (train[\"review\"].size, num_clusters), dtype=\"float32\" )\n",
    "\n",
    "counter = 0\n",
    "for review in clean_train_reviews[:train[\"review\"].size]:\n",
    "    X1[counter] = create_bag_of_centroids( review, word_centroid_map )\n",
    "    counter += 1\n",
    "\n",
    "# Repeat for test reviews\n",
    "X1_test = np.zeros(( test[\"review\"].size, num_clusters), dtype=\"float32\" )\n",
    "\n",
    "counter = 0\n",
    "for review in clean_test_reviews:\n",
    "    X1_test[counter] = create_bag_of_centroids( review, word_centroid_map )\n",
    "    counter += 1\n",
    "\n",
    "print (\"creating X2, X2_test\")\n",
    "#create X2, X2_test\n",
    "#  Pre-allocate an array for the training set bags of centroids (for speed)\n",
    "X2 = np.zeros( (train[\"review\"].size, num_clusters), dtype=\"float32\" )\n",
    "\n",
    "counter = 0\n",
    "for review in clean_train_reviews[:train[\"review\"].size]:\n",
    "    X2[counter] = create_bag_of_centroids( review, word_centroid_map_g )\n",
    "    counter += 1\n",
    "\n",
    "# Repeat for test reviews\n",
    "X2_test = np.zeros(( test[\"review\"].size, num_clusters), dtype=\"float32\" )\n",
    "\n",
    "counter = 0\n",
    "for review in clean_test_reviews:\n",
    "    X2_test[counter] = create_bag_of_centroids( review, word_centroid_map_g )\n",
    "    counter += 1\n",
    "\n",
    "print (\"Done\")"
   ]
  },
  {
   "cell_type": "code",
   "execution_count": 99,
   "metadata": {
    "collapsed": true,
    "deletable": true,
    "editable": true
   },
   "outputs": [],
   "source": [
    "#Q2- Create LDA topic models\n",
    "\n",
    "#num_topics = 10\n",
    "\n",
    "#setting logging to only fatal, it creates too many messages otherwise\n",
    "import logging\n",
    "logging.basicConfig(format='%(levelname)s : %(message)s', level=logging.FATAL)\n",
    "logging.root.level = logging.FATAL\n",
    "\n",
    "from gensim import corpora\n",
    "#for training data\n",
    "dictionary_train = corpora.Dictionary(sentences)\n",
    "corpus_train = [dictionary_train.doc2bow(text) for text in clean_train_reviews]\n",
    "ldamodel_10 = models.ldamodel.LdaModel(corpus_train, num_topics=10, id2word = dictionary_train)\n",
    "\n",
    "#featurize the reviews- train and test set\n",
    "X3_orig=ldamodel_10[corpus_train]\n",
    "\n",
    "#create the test set corpus\n",
    "dictionary_test = corpora.Dictionary(clean_test_reviews)\n",
    "corpus_test = [dictionary_train.doc2bow(text) for text in clean_test_reviews]\n",
    "X3_test_orig=ldamodel_10[corpus_test]"
   ]
  },
  {
   "cell_type": "code",
   "execution_count": 100,
   "metadata": {
    "collapsed": true,
    "deletable": true,
    "editable": true
   },
   "outputs": [],
   "source": [
    "#Q2 b- Create LDA topic models, num_topics = 20\n",
    "ldamodel_20 = models.ldamodel.LdaModel(corpus_train, num_topics=20, id2word = dictionary_train)\n",
    "\n",
    "#featurize the reviews- train and test set\n",
    "X4_orig=ldamodel_20[corpus_train]\n",
    "#for the test set\n",
    "X4_test_orig=ldamodel_20[corpus_test]"
   ]
  },
  {
   "cell_type": "code",
   "execution_count": 101,
   "metadata": {
    "collapsed": false,
    "deletable": true,
    "editable": true
   },
   "outputs": [
    {
     "name": "stdout",
     "output_type": "stream",
     "text": [
      "Done\n"
     ]
    }
   ],
   "source": [
    "#convert X3, X4 (train and test) to np array\n",
    "\n",
    "X3=np.zeros((train.shape[0],10))\n",
    "for i in range(0,train.shape[0]):\n",
    "    row=X3_orig[i]\n",
    "    for [j,val] in row:\n",
    "        X3[i,j]=val\n",
    "X3_test=np.zeros((test.shape[0],10))\n",
    "for i in range(0,test.shape[0]):\n",
    "    row=X3_test_orig[i]\n",
    "    for [j,val] in row:\n",
    "        X3_test[i,j]=val\n",
    "\n",
    "X4=np.zeros((train.shape[0],20))\n",
    "for i in range(0,train.shape[0]):\n",
    "    row=X4_orig[i]\n",
    "    for [j,val] in row:\n",
    "        X4[i,j]=val\n",
    "\n",
    "X4_test=np.zeros((test.shape[0],20))\n",
    "for i in range(0,test.shape[0]):\n",
    "    row=X4_test_orig[i]\n",
    "    for [j,val] in row:\n",
    "        X4_test[i,j]=val\n",
    "print (\"Done\")"
   ]
  },
  {
   "cell_type": "code",
   "execution_count": 102,
   "metadata": {
    "collapsed": false,
    "deletable": true,
    "editable": true
   },
   "outputs": [
    {
     "name": "stdout",
     "output_type": "stream",
     "text": [
      "For Model ldamodel_10(num_topics=10) \n",
      "\n",
      "[(0, u'0.015*\"film\" + 0.006*\"one\" + 0.004*\"world\" + 0.003*\"people\" + 0.003*\"also\" + 0.003*\"time\" + 0.003*\"story\" + 0.003*\"life\" + 0.003*\"us\" + 0.003*\"like\"'), (1, u'0.005*\"movie\" + 0.004*\"one\" + 0.004*\"gandhi\" + 0.003*\"like\" + 0.003*\"emma\" + 0.003*\"good\" + 0.003*\"moore\" + 0.003*\"rock\" + 0.002*\"movies\" + 0.002*\"bollywood\"'), (2, u'0.007*\"film\" + 0.005*\"one\" + 0.003*\"like\" + 0.003*\"jerry\" + 0.003*\"horror\" + 0.003*\"movie\" + 0.003*\"house\" + 0.003*\"kelly\" + 0.003*\"man\" + 0.003*\"story\"'), (3, u'0.007*\"one\" + 0.007*\"movie\" + 0.006*\"film\" + 0.004*\"like\" + 0.004*\"life\" + 0.004*\"get\" + 0.003*\"people\" + 0.003*\"way\" + 0.003*\"man\" + 0.003*\"would\"'), (4, u'0.007*\"one\" + 0.005*\"show\" + 0.004*\"new\" + 0.003*\"film\" + 0.003*\"first\" + 0.003*\"man\" + 0.003*\"time\" + 0.003*\"tarzan\" + 0.003*\"police\" + 0.002*\"even\"'), (5, u'0.035*\"film\" + 0.009*\"one\" + 0.008*\"films\" + 0.006*\"story\" + 0.005*\"much\" + 0.005*\"well\" + 0.004*\"movie\" + 0.004*\"like\" + 0.004*\"first\" + 0.004*\"book\"'), (6, u'0.008*\"movie\" + 0.008*\"one\" + 0.006*\"war\" + 0.006*\"game\" + 0.006*\"like\" + 0.005*\"time\" + 0.004*\"would\" + 0.004*\"get\" + 0.003*\"show\" + 0.003*\"film\"'), (7, u'0.021*\"movie\" + 0.011*\"film\" + 0.011*\"one\" + 0.007*\"like\" + 0.007*\"great\" + 0.007*\"good\" + 0.007*\"story\" + 0.006*\"see\" + 0.006*\"show\" + 0.006*\"love\"'), (8, u'0.010*\"film\" + 0.006*\"one\" + 0.004*\"role\" + 0.004*\"well\" + 0.003*\"man\" + 0.003*\"good\" + 0.003*\"also\" + 0.003*\"story\" + 0.003*\"musical\" + 0.003*\"cast\"'), (9, u'0.028*\"movie\" + 0.012*\"film\" + 0.011*\"like\" + 0.011*\"one\" + 0.009*\"bad\" + 0.008*\"good\" + 0.008*\"even\" + 0.007*\"really\" + 0.006*\"would\" + 0.005*\"time\"')]\n",
      "\n",
      "For Model ldamodel_20(num_topics=20) \n",
      "\n",
      "[(0, u'0.011*\"jane\" + 0.010*\"book\" + 0.009*\"novel\" + 0.007*\"version\" + 0.006*\"western\" + 0.005*\"mr\" + 0.005*\"christmas\" + 0.004*\"stewart\" + 0.004*\"adaptation\" + 0.004*\"like\"'), (1, u'0.022*\"film\" + 0.009*\"story\" + 0.009*\"one\" + 0.008*\"good\" + 0.007*\"great\" + 0.007*\"well\" + 0.006*\"character\" + 0.006*\"movie\" + 0.006*\"also\" + 0.005*\"like\"'), (2, u'0.016*\"film\" + 0.007*\"people\" + 0.006*\"women\" + 0.005*\"life\" + 0.005*\"sex\" + 0.004*\"world\" + 0.003*\"documentary\" + 0.003*\"men\" + 0.003*\"one\" + 0.003*\"movie\"'), (3, u'0.007*\"comedy\" + 0.006*\"funny\" + 0.004*\"movie\" + 0.004*\"one\" + 0.004*\"superman\" + 0.004*\"rock\" + 0.004*\"black\" + 0.003*\"chris\" + 0.003*\"like\" + 0.003*\"time\"'), (4, u'0.042*\"show\" + 0.024*\"series\" + 0.018*\"episode\" + 0.011*\"episodes\" + 0.010*\"season\" + 0.008*\"new\" + 0.005*\"television\" + 0.005*\"tv\" + 0.005*\"one\" + 0.004*\"shows\"'), (5, u'0.010*\"film\" + 0.009*\"kelly\" + 0.009*\"indian\" + 0.006*\"victoria\" + 0.006*\"one\" + 0.005*\"ned\" + 0.005*\"sandler\" + 0.004*\"sinatra\" + 0.004*\"story\" + 0.004*\"frankie\"'), (6, u'0.015*\"film\" + 0.011*\"movie\" + 0.008*\"one\" + 0.006*\"people\" + 0.005*\"would\" + 0.004*\"black\" + 0.003*\"like\" + 0.003*\"american\" + 0.003*\"time\" + 0.003*\"see\"'), (7, u'0.025*\"film\" + 0.009*\"one\" + 0.005*\"two\" + 0.005*\"films\" + 0.005*\"characters\" + 0.003*\"also\" + 0.003*\"well\" + 0.003*\"time\" + 0.003*\"much\" + 0.003*\"movie\"'), (8, u'0.012*\"film\" + 0.005*\"one\" + 0.004*\"french\" + 0.004*\"marie\" + 0.003*\"match\" + 0.003*\"dan\" + 0.003*\"story\" + 0.003*\"also\" + 0.003*\"church\" + 0.003*\"young\"'), (9, u'0.012*\"film\" + 0.006*\"one\" + 0.005*\"musical\" + 0.005*\"movie\" + 0.004*\"great\" + 0.004*\"music\" + 0.004*\"love\" + 0.004*\"dance\" + 0.003*\"good\" + 0.003*\"best\"'), (10, u'0.008*\"movie\" + 0.007*\"like\" + 0.007*\"zombie\" + 0.006*\"one\" + 0.005*\"dead\" + 0.005*\"zombies\" + 0.004*\"monster\" + 0.004*\"batman\" + 0.004*\"also\" + 0.004*\"vampire\"'), (11, u'0.013*\"joe\" + 0.012*\"allen\" + 0.011*\"woody\" + 0.010*\"movie\" + 0.009*\"gandhi\" + 0.008*\"football\" + 0.005*\"cinderella\" + 0.004*\"fox\" + 0.004*\"texas\" + 0.003*\"harilal\"'), (12, u'0.010*\"one\" + 0.007*\"time\" + 0.006*\"show\" + 0.006*\"like\" + 0.005*\"great\" + 0.005*\"family\" + 0.005*\"love\" + 0.005*\"life\" + 0.005*\"film\" + 0.005*\"years\"'), (13, u'0.047*\"movie\" + 0.013*\"like\" + 0.013*\"one\" + 0.011*\"good\" + 0.010*\"bad\" + 0.009*\"film\" + 0.009*\"really\" + 0.008*\"see\" + 0.008*\"even\" + 0.008*\"movies\"'), (14, u'0.018*\"film\" + 0.010*\"like\" + 0.007*\"one\" + 0.006*\"even\" + 0.006*\"would\" + 0.004*\"people\" + 0.004*\"make\" + 0.004*\"could\" + 0.003*\"much\" + 0.003*\"time\"'), (15, u'0.010*\"tarzan\" + 0.004*\"car\" + 0.004*\"one\" + 0.003*\"jim\" + 0.003*\"rape\" + 0.003*\"tony\" + 0.003*\"guiness\" + 0.003*\"swedish\" + 0.003*\"randolph\" + 0.003*\"polanski\"'), (16, u'0.008*\"movie\" + 0.005*\"one\" + 0.004*\"man\" + 0.003*\"dog\" + 0.003*\"cop\" + 0.003*\"see\" + 0.003*\"time\" + 0.003*\"go\" + 0.003*\"even\" + 0.003*\"good\"'), (17, u'0.014*\"film\" + 0.009*\"one\" + 0.006*\"horror\" + 0.004*\"like\" + 0.004*\"films\" + 0.003*\"people\" + 0.003*\"story\" + 0.003*\"even\" + 0.003*\"well\" + 0.003*\"much\"'), (18, u'0.013*\"war\" + 0.009*\"japanese\" + 0.008*\"film\" + 0.006*\"one\" + 0.006*\"action\" + 0.005*\"fight\" + 0.005*\"like\" + 0.004*\"world\" + 0.004*\"arts\" + 0.004*\"martial\"'), (19, u'0.010*\"film\" + 0.009*\"one\" + 0.006*\"movie\" + 0.004*\"house\" + 0.004*\"like\" + 0.004*\"man\" + 0.004*\"story\" + 0.004*\"time\" + 0.004*\"way\" + 0.003*\"would\"')]\n"
     ]
    }
   ],
   "source": [
    "#Printing top 10 words with highest probabilities for each topic\n",
    "\n",
    "#LDA model with num_topics=10\n",
    "print (\"For Model ldamodel_10(num_topics=10) \\n\")\n",
    "print(ldamodel_10.print_topics(num_topics=10, num_words=10))   \n",
    "\n",
    "#LDA model with num_topics=20\n",
    "print (\"\\nFor Model ldamodel_20(num_topics=20) \\n\")\n",
    "print(ldamodel_20.print_topics(num_topics=20, num_words=10))"
   ]
  },
  {
   "cell_type": "code",
   "execution_count": 103,
   "metadata": {
    "collapsed": true,
    "deletable": true,
    "editable": true
   },
   "outputs": [],
   "source": [
    "#FROMcv for tuning number of trees\n",
    "\n",
    "def tune_RF(X_train, y_train):\n",
    "    scores_trees=[]\n",
    "    trees_list=[10,50,100,200,300,500]\n",
    "    random.seed(0)\n",
    "\n",
    "    for i in range(0,len(trees_list)):\n",
    "        #generating a random value for the exponent of 10.\n",
    "        #This gives us a uniform random value generation over 1e-4 to 1e+4\n",
    "        estimator = RandomForestClassifier(n_estimators = trees_list[i])\n",
    "        train_sizes, train_scores, test_scores = learning_curve(estimator, X_train, y_train, cv=5, scoring='roc_auc')\n",
    "        scores_trees.append(np.mean(test_scores))\n",
    "\n",
    "    #keep the value of C giving maximum roc_auc score\n",
    "    best_num= trees_list[np.argmax(scores_trees)]\n",
    "    print (\"Best num of trees= \",best_num, \"Best score= \",np.max(scores_trees))\n",
    "    return best_num, np.max(scores_trees)"
   ]
  },
  {
   "cell_type": "markdown",
   "metadata": {
    "deletable": true,
    "editable": true
   },
   "source": [
    "Q3- Tuning number of trees by cross validation for X1,X2,X3,X4"
   ]
  },
  {
   "cell_type": "code",
   "execution_count": 118,
   "metadata": {
    "collapsed": false,
    "deletable": true,
    "editable": true
   },
   "outputs": [
    {
     "name": "stdout",
     "output_type": "stream",
     "text": [
      "('Best num of trees= ', 500, 'Best score= ', 0.871304915422441)\n",
      "X1 Random Forest trained\n",
      "\n",
      "('Best num of trees= ', 500, 'Best score= ', 0.6806117398043239)\n",
      "X2 Random Forest trained\n",
      "\n",
      "('Best num of trees= ', 500, 'Best score= ', 0.7794499715670181)\n",
      "X3 Random Forest trained\n",
      "\n",
      "('Best num of trees= ', 500, 'Best score= ', 0.8343359782204781)\n",
      "X4 Random Forest trained\n",
      "\n"
     ]
    }
   ],
   "source": [
    "# Fit a random forest and extract predictions for X1\n",
    "# splitting into 80/20- train/test set\n",
    "XRF1_train, XRF1_test, YRF1_train, YRF1_test = train_test_split(X1, np.array(train['sentiment']), test_size = 0.2, random_state = 0)\n",
    "#finding best number of trees\n",
    "XRF1_num, XRF1_AUC=tune_RF(XRF1_train, YRF1_train)\n",
    "print (\"X1 Random Forest trained\")\n",
    "\n",
    "# Fit a random forest and extract predictions for X2\n",
    "# splitting into 80/20- train/test set\n",
    "XRF2_train, XRF2_test, YRF2_train, YRF2_test = train_test_split(X2, np.array(train['sentiment']), test_size = 0.2, random_state = 0)\n",
    "#finding best number of trees\n",
    "XRF2_num, XRF2_AUC=tune_RF(XRF2_train, YRF2_train)\n",
    "print (\"X2 Random Forest trained\")\n",
    "\n",
    "# Fit a random forest and extract predictions for X3\n",
    "# splitting into 80/20- train/test set\n",
    "XRF3_train, XRF3_test, YRF3_train, YRF3_test = train_test_split(X3, np.array(train['sentiment']), test_size = 0.2, random_state = 0)\n",
    "#finding best number of trees\n",
    "XRF3_num, XRF3_AUC=tune_RF(XRF3_train, YRF3_train)\n",
    "print (\"X3 Random Forest trained\")\n",
    "\n",
    "# Fit a random forest and extract predictions for X4\n",
    "# splitting into 80/20- train/test set\n",
    "XRF4_train, XRF4_test, YRF4_train, YRF4_test = train_test_split(X4, np.array(train['sentiment']),\\\n",
    "                                                                test_size = 0.2, random_state = 0)\n",
    "#finding best number of trees\n",
    "XRF4_num, XRF4_AUC=tune_RF(XRF4_train, YRF4_train)\n",
    "print (\"X4 Random Forest trained\")"
   ]
  },
  {
   "cell_type": "markdown",
   "metadata": {
    "deletable": true,
    "editable": true
   },
   "source": [
    "Retrain on 80% data with best number of trees and plot ROC"
   ]
  },
  {
   "cell_type": "code",
   "execution_count": 7,
   "metadata": {
    "collapsed": false,
    "deletable": true,
    "editable": true
   },
   "outputs": [
    {
     "name": "stdout",
     "output_type": "stream",
     "text": [
      "('ROC area X1 ', 0.8780377598397873)\n",
      "\n",
      "\n",
      "('ROC area X2 ', 0.6957838537598501)\n",
      "\n",
      "\n",
      "('ROC area X3 ', 0.7936939473367461)\n",
      "\n",
      "\n",
      "('ROC area X4 ', 0.841195138175737)\n"
     ]
    }
   ],
   "source": [
    "X1_estimator = RandomForestClassifier(n_estimators = XRF1_num).fit(XRF1_train,YRF1_train)\n",
    "#ROC\n",
    "predY1=X1_estimator.predict_proba(XRF1_test)\n",
    "fpr1, tpr1, thresholds = roc_curve(YRF1_test,predY1[:,1])\n",
    "roc_auc1=auc(fpr1,tpr1)\n",
    "print (\"ROC area X1 \",roc_auc1)\n",
    "\n",
    "# Retrain the classifier on the 80% train data for X2\n",
    "X2_estimator = RandomForestClassifier(n_estimators = XRF2_num).fit(XRF2_train,YRF2_train)\n",
    "#ROC\n",
    "predY2=X2_estimator.predict_proba(XRF2_test)\n",
    "fpr2, tpr2, thresholds = roc_curve(YRF2_test,predY2[:,1])\n",
    "roc_auc2=auc(fpr2,tpr2)\n",
    "print (\"ROC area X2 \",roc_auc2)\n",
    "\n",
    "# Retrain the classifier on the 80% train data for X3\n",
    "X3_estimator = RandomForestClassifier(n_estimators = XRF3_num).fit(XRF3_train,YRF3_train)\n",
    "#ROC\n",
    "predY3=X3_estimator.predict_proba(XRF3_test)\n",
    "fpr3, tpr3, thresholds = roc_curve(YRF3_test,predY3[:,1])\n",
    "roc_auc3=auc(fpr3,tpr3)\n",
    "print (\"ROC area X3 \",roc_auc3)\n",
    "\n",
    "# Retrain the classifier on the 80% train data for X4\n",
    "\n",
    "X4_estimator = RandomForestClassifier(n_estimators = XRF4_num).fit(XRF4_train,YRF4_train)\n",
    "#ROC\n",
    "predY4=X4_estimator.predict_proba(XRF4_test)\n",
    "fpr4, tpr4, thresholds = roc_curve(YRF4_test,predY4[:,1])\n",
    "roc_auc4=auc(fpr4,tpr4)\n",
    "print (\"ROC area X4 \",roc_auc4)\n",
    "\n",
    "#plot ROC curves\n",
    "plt.title('ROC curves %0.2f')\n",
    "plt.plot(fpr1, tpr1,'r:')\n",
    "plt.plot(fpr2, tpr2,'b-.')\n",
    "plt.plot(fpr3,tpr3,'m--')\n",
    "plt.plot(fpr4,tpr4,'g' ,lw=1)\n",
    "plt.xlabel('False Positive Rate')\n",
    "plt.ylabel('True Positive Rate')\n",
    "plt.legend(['X1:'+str(round(roc_auc1,3)), 'X2:'+str(round(roc_auc2,3)),\n",
    "            'X3:'+str(round(roc_auc3,3)), 'X4:'+str(round(roc_auc4,3))], loc='best')\n",
    "plt.savefig('ROC.png')"
   ]
  },
  {
   "cell_type": "code",
   "execution_count": 6,
   "metadata": {
    "collapsed": false,
    "deletable": true,
    "editable": true
   },
   "outputs": [
    {
     "data": {
      "image/png": "[encoded data removed]",
      "text/plain": [
       "<IPython.core.display.Image object>"
      ]
     },
     "metadata": {},
     "output_type": "display_data"
    }
   ],
   "source": [
    "#saved the ROC plot, so loading it here \n",
    "from IPython.display import Image\n",
    "Image(filename='ROC.png')"
   ]
  },
  {
   "cell_type": "markdown",
   "metadata": {
    "deletable": true,
    "editable": true
   },
   "source": [
    "**NOTE** The values of ROC-AUC do vary with each run possibly because of the random train-test split"
   ]
  },
  {
   "cell_type": "code",
   "execution_count": 110,
   "metadata": {
    "collapsed": false,
    "deletable": true,
    "editable": true
   },
   "outputs": [
    {
     "name": "stdout",
     "output_type": "stream",
     "text": [
      "Done\n"
     ]
    }
   ],
   "source": [
    "#predict output for test set using X1,X2,X3,X4 and store\n",
    "\n",
    "result = X1_estimator.predict(X1_test)\n",
    "# Write the test results\n",
    "output = pd.DataFrame(data={\"id\":test[\"id\"], \"sentiment\":result})\n",
    "output.to_csv( \"Output_X1.csv\", index=False, quoting=3 )\n",
    "\n",
    "result = X2_estimator.predict(X2_test)\n",
    "# Write the test results\n",
    "output = pd.DataFrame(data={\"id\":test[\"id\"], \"sentiment\":result})\n",
    "output.to_csv( \"Output_X2.csv\", index=False, quoting=3 )\n",
    "\n",
    "result = X3_estimator.predict(X3_test)\n",
    "# Write the test results\n",
    "output = pd.DataFrame(data={\"id\":test[\"id\"], \"sentiment\":result})\n",
    "output.to_csv( \"Output_X3.csv\", index=False, quoting=3 )\n",
    "\n",
    "result = X4_estimator.predict(X4_test)\n",
    "# Write the test results\n",
    "output = pd.DataFrame(data={\"id\":test[\"id\"], \"sentiment\":result})\n",
    "output.to_csv( \"Output_X4.csv\", index=False, quoting=3 )\n",
    "\n",
    "print (\"Done\")"
   ]
  },
  {
   "cell_type": "markdown",
   "metadata": {
    "deletable": true,
    "editable": true
   },
   "source": [
    "Kaggle Results (Reporting best accuracy for each X1,X2,X3,X4)"
   ]
  },
  {
   "cell_type": "code",
   "execution_count": 122,
   "metadata": {
    "collapsed": false,
    "deletable": true,
    "editable": true
   },
   "outputs": [
    {
     "data": {
      "image/png": "[encoded data removed]",
      "text/plain": [
       "<IPython.core.display.Image object>"
      ]
     },
     "metadata": {},
     "output_type": "display_data"
    }
   ],
   "source": [
    "from IPython.display import Image\n",
    "Image(filename='Kaggle1.png')"
   ]
  },
  {
   "cell_type": "code",
   "execution_count": 126,
   "metadata": {
    "collapsed": false,
    "deletable": true,
    "editable": true
   },
   "outputs": [
    {
     "data": {
      "image/png": "[encoded data removed]",
      "text/plain": [
       "<IPython.core.display.Image object>"
      ]
     },
     "metadata": {},
     "output_type": "display_data"
    }
   ],
   "source": [
    "Image(filename='Kaggle2.png')"
   ]
  },
  {
   "cell_type": "markdown",
   "metadata": {
    "deletable": true,
    "editable": true
   },
   "source": [
    "Q3 Part c\n",
    "\n",
    "Among the 4 methods used here, the best performance is for the word2vec model we created with context=5, embedding dimension=100, min_words=40 (X1). \n",
    "\n",
    "The ROC-AUC for X1 is 87.8% which is comparable to the Bag-of-words model using tf-idf(88.5%). But the bag of words model does better for the Kaggle output prediction getting about 88%. Here Kaggle score is about 81%. \n",
    "\n",
    "To increase the efficacy:\n",
    "\n",
    "1. For the word2vec model that we created in Q1 Part a, we can increase the number of clusters(already did here. I made #clusters=100). That increased the ROC-AUC and the Kaggle score because the features are better represented for more clusters. Since there are about 16000 words, 100 clusters seemed like a good choice.\n",
    "\n",
    "2. a) For the LDA models, increasing the number of topics should improve the efficacy of the LDA model. \n",
    "   b) Also using the unlabelled and labelled training data works better than using just the labelled data for the LDA models(done here).\n",
    "\n",
    "3. a) Currently the cross validation is to find a good number of trees for the Random forests from the values [10,50,100,200,300,500]. We can use more fine grained values for the number of trees. \n",
    "   b) Also we can use cross validation to tune for min_samples_leaf(minimum number of samples required to be at a leaf node) and min_samples_split(minimum number of samples required to split an internal node)"
   ]
  }
 ],
 "metadata": {
  "kernelspec": {
   "display_name": "Python 2",
   "language": "python",
   "name": "python2"
  },
  "language_info": {
   "codemirror_mode": {
    "name": "ipython",
    "version": 2
   },
   "file_extension": ".py",
   "mimetype": "text/x-python",
   "name": "python",
   "nbconvert_exporter": "python",
   "pygments_lexer": "ipython2",
   "version": "2.7.13"
  }
 },
 "nbformat": 4,
 "nbformat_minor": 0
}
