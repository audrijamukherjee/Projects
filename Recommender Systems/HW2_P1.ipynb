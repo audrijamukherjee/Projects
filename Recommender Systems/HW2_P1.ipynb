{
 "cells": [
  {
   "cell_type": "code",
   "execution_count": 9,
   "metadata": {
    "collapsed": true,
    "deletable": true,
    "editable": true
   },
   "outputs": [],
   "source": [
    "#all imports\n",
    "import numpy as np\n",
    "import csv\n",
    "import math\n",
    "import matplotlib.pyplot as plt"
   ]
  },
  {
   "cell_type": "code",
   "execution_count": 10,
   "metadata": {
    "collapsed": false,
    "deletable": true,
    "editable": true
   },
   "outputs": [],
   "source": [
    "#Read in u.data and create A matrix\n",
    "num_users=943\n",
    "num_items=1682\n",
    "A=np.zeros((num_users,num_items))\n",
    "with open('u.data') as file:\n",
    "    for line in csv.reader(file,delimiter=\"\\t\"):\n",
    "        A[int(line[0])-1,int(line[1])-1]=line[2]"
   ]
  },
  {
   "cell_type": "markdown",
   "metadata": {
    "deletable": true,
    "editable": true
   },
   "source": [
    "Plotting the histograms"
   ]
  },
  {
   "cell_type": "code",
   "execution_count": 11,
   "metadata": {
    "collapsed": false,
    "deletable": true,
    "editable": true
   },
   "outputs": [
    {
     "data": {
      "image/png": "[encoded data removed]",
      "text/plain": [
       "<matplotlib.figure.Figure at 0x7f1ba6433358>"
      ]
     },
     "metadata": {},
     "output_type": "display_data"
    },
    {
     "data": {
      "image/png": "[encoded data removed]",
      "text/plain": [
       "<matplotlib.figure.Figure at 0x7f1ba64332b0>"
      ]
     },
     "metadata": {},
     "output_type": "display_data"
    }
   ],
   "source": [
    "#movie_ratings = number of ratings for a movie\n",
    "movie_ratings=(A!=0).sum(axis=0)\n",
    "bins1=np.arange(0,int(np.max(movie_ratings))+10,10.0)\n",
    "#In int(np.max(movie_ratings))+10 #+10 is to include the last value as well\n",
    "plt.hist(movie_ratings,bins1)\n",
    "plt.title('Movie ratings histogram')\n",
    "plt.xlabel('Bins')\n",
    "plt.ylabel('Count of movies')\n",
    "plt.show()\n",
    "#user_ratings = number of ratings for a user\n",
    "user_ratings=(A!=0).sum(axis=1)\n",
    "bins2=np.arange(0,int(np.max(user_ratings))+10,10.0)\n",
    "#In int(np.max(user_ratings))+10 #+10 is to include the last value as well\n",
    "plt.hist(user_ratings,bins2)\n",
    "plt.title('User ratings histogram')\n",
    "plt.xlabel('Bins')\n",
    "plt.ylabel('Count of users')\n",
    "plt.show()"
   ]
  },
  {
   "cell_type": "markdown",
   "metadata": {
    "deletable": true,
    "editable": true
   },
   "source": [
    "Calculating Abase from ua.base and Atest from ua.test"
   ]
  },
  {
   "cell_type": "code",
   "execution_count": 12,
   "metadata": {
    "collapsed": true,
    "deletable": true,
    "editable": true
   },
   "outputs": [],
   "source": [
    "Abase=np.zeros((num_users,num_items))\n",
    "with open('ua.base') as file1:\n",
    "    for line in csv.reader(file1,delimiter=\"\\t\"):\n",
    "        Abase[int(line[0])-1,int(line[1])-1]=line[2]\n",
    "Atest=np.zeros((num_users,num_items))\n",
    "with open('ua.test') as file2:\n",
    "    for line in csv.reader(file2,delimiter=\"\\t\"):\n",
    "        Atest[int(line[0])-1,int(line[1])-1]=line[2]"
   ]
  },
  {
   "cell_type": "markdown",
   "metadata": {
    "deletable": true,
    "editable": true
   },
   "source": [
    "Computing mu, bu, bi"
   ]
  },
  {
   "cell_type": "code",
   "execution_count": 13,
   "metadata": {
    "collapsed": false,
    "deletable": true,
    "editable": true
   },
   "outputs": [
    {
     "name": "stdout",
     "output_type": "stream",
     "text": [
      "Mu =  3.52382687424\n"
     ]
    }
   ],
   "source": [
    "#mu=mean over all the non-zero entries\n",
    "mu=np.sum(Abase)/np.count_nonzero(Abase)\n",
    "print (\"Mu = \",mu) #REMOVE\n",
    "#calculating bi for each item\n",
    "lambda2=25\n",
    "bi=np.zeros(num_items)\n",
    "for i in range(0,num_items):\n",
    "    t=0\n",
    "    count=0\n",
    "    for u in range(0,num_users):\n",
    "        if Abase[u,i]!=0:\n",
    "            t=t+Abase[u,i]-mu\n",
    "            count+=1\n",
    "    bi[i]=t/(lambda2+count)\n",
    "\n",
    "#calculating bu for each user\n",
    "lambda3=10\n",
    "bu=np.zeros(num_users)\n",
    "for u in range(0,num_users):\n",
    "    Ru=np.copy(Abase[u])\n",
    "    temp=np.copy(Ru)\n",
    "    for i in range(0,Ru.shape[0]):\n",
    "        if Ru[i]!=0:\n",
    "            temp[i]=Ru[i]-mu-bi[i]\n",
    "    bu[u]=np.sum(temp)/(lambda3+np.count_nonzero(Ru))\n"
   ]
  },
  {
   "cell_type": "code",
   "execution_count": 15,
   "metadata": {
    "collapsed": false,
    "deletable": true,
    "editable": true
   },
   "outputs": [
    {
     "name": "stdout",
     "output_type": "stream",
     "text": [
      "Baseline RMSE= 0.9664817838879253\n"
     ]
    }
   ],
   "source": [
    "#calculate b_ui over test set\n",
    "bui=np.zeros((num_users,num_items))\n",
    "for u in range(0,num_users):\n",
    "    for i in range(0,num_items):\n",
    "        if Atest[u,i]!=0: #REMOVE IF CALCULATING ALL ENTRIES!!!\n",
    "            bui[u,i]=mu+bu[u]+bi[i]\n",
    "#calculating the RMSE\n",
    "RMSE=np.zeros(Atest.shape)\n",
    "for u in range(0,num_users):\n",
    "    for i in range(0,num_items):\n",
    "        if Atest[u,i]!=0:\n",
    "            RMSE[u,i]=pow((Atest[u,i]-bui[u,i]),2)\n",
    "RMSE_val=math.sqrt(np.sum(RMSE)/np.count_nonzero(Atest))\n",
    "print (\"Baseline RMSE=\",RMSE_val)"
   ]
  },
  {
   "cell_type": "markdown",
   "metadata": {
    "deletable": true,
    "editable": true
   },
   "source": [
    "Part c for baseline: Plotting the RMSE per user"
   ]
  },
  {
   "cell_type": "code",
   "execution_count": 19,
   "metadata": {
    "collapsed": false,
    "deletable": true,
    "editable": true
   },
   "outputs": [
    {
     "data": {
      "image/png": "[encoded data removed]",
      "text/plain": [
       "<matplotlib.figure.Figure at 0x7f1baa3c25c0>"
      ]
     },
     "metadata": {},
     "output_type": "display_data"
    }
   ],
   "source": [
    "#calculate the average rating per user, only considering non-zero ones\n",
    "avg_per_user=np.zeros(num_users)\n",
    "for u in range(0,num_users):\n",
    "    count=0\n",
    "    t=0\n",
    "    for i in range(0,num_items):\n",
    "        if Abase[u,i]!=0:\n",
    "            t+=Abase[u,i]\n",
    "            count+=1\n",
    "    avg_per_user[u]=t/count\n",
    "bins=np.linspace(np.min(avg_per_user),np.max(avg_per_user),6) #6 numbers, 5 bins\n",
    "\n",
    "\n",
    "RMSE_binned=np.zeros(5)\n",
    "for k in range(0,5):\n",
    "    bin_start=bins[k]\n",
    "    bin_end=bins[k+1]\n",
    "    \n",
    "    RMSE=0\n",
    "    count=0\n",
    "    for u in range(0,num_users):\n",
    "        if avg_per_user[u]>=bin_start and avg_per_user[u]<bin_end:\n",
    "            for i in range(0,num_items):\n",
    "                if Atest[u,i]!=0:\n",
    "                    RMSE+=pow((Atest[u,i]-bui[u,i]),2)\n",
    "                    count+=1\n",
    "    RMSE_binned[k]=math.sqrt(RMSE/count)\n",
    "    RMSE=0\n",
    "    count=0\n",
    "\n",
    "#plot the RSME per user\n",
    "plt.bar(bins[0:5],RMSE_binned,width=0.6,color='blue')\n",
    "#rounding the bins for labelling the x axis and making the bins for ticks\n",
    "round_bins=[str(round(bins[i],1))+'-'+str(round(bins[i+1],1)) for i in range(0,5)]\n",
    "plt.xticks(bins,round_bins)\n",
    "plt.title('RMSE for binned users')\n",
    "plt.xlabel('Bins')\n",
    "plt.ylabel('RMSE for all users in bin')\n",
    "plt.show()\n"
   ]
  },
  {
   "cell_type": "markdown",
   "metadata": {
    "deletable": true,
    "editable": true
   },
   "source": [
    "NOTE- Rounded off the bins to one decimal to fit properly below each bar."
   ]
  },
  {
   "cell_type": "markdown",
   "metadata": {
    "deletable": true,
    "editable": true
   },
   "source": [
    "Calculate the similarity matrix"
   ]
  },
  {
   "cell_type": "code",
   "execution_count": null,
   "metadata": {
    "collapsed": false,
    "deletable": true,
    "editable": true
   },
   "outputs": [],
   "source": [
    "sim=np.zeros((num_items,num_items))\n",
    "for i in range(0,num_items):\n",
    "    #if i%100==0:    #JUST FOR CHECKING\n",
    "    #    print (i)\n",
    "    Ui1=Abase[:,i]\n",
    "    for j in range(i,num_items):\n",
    "        if i!=j:\n",
    "            Ui2=Abase[:,j]\n",
    "            s1=0\n",
    "            s2=0\n",
    "            s3=0\n",
    "            for u in range(0,num_users):\n",
    "                if Ui1[u]!=0 and Ui2[u]!=0:\n",
    "                    #this is the intersection\n",
    "                    s1+=(Abase[u,i]-avg_per_user[u])*(Abase[u,j]-avg_per_user[u])\n",
    "                    s2+=pow((Abase[u,i]-avg_per_user[u]),2)\n",
    "                    s3+=pow((Abase[u,j]-avg_per_user[u]),2)\n",
    "            #if denominator is 0, setting s(i,j)=1 as mentioned on piazza, is a reasonable approach\n",
    "            if s2==0 or s3==0:\n",
    "                sim[i,j]=1\n",
    "            else:\n",
    "                sim[i,j]=s1/math.sqrt(s2*s3)\n",
    "        else:\n",
    "            sim[i,j]=1 #diagonal elements\n",
    "    #we filled only the bottom triangle, the matrix is symmetric, so we can copy it into the top triangle\n",
    "    for i in range(0,num_items):\n",
    "        for j in range(0,i):\n",
    "            sim[i,j]=sim[j,i]\n"
   ]
  },
  {
   "cell_type": "markdown",
   "metadata": {
    "deletable": true,
    "editable": true
   },
   "source": [
    "Find the k nearest neighbours"
   ]
  },
  {
   "cell_type": "markdown",
   "metadata": {
    "collapsed": true,
    "deletable": true,
    "editable": true
   },
   "source": [
    "Predict values for k=1,2,3,5,10"
   ]
  },
  {
   "cell_type": "code",
   "execution_count": 22,
   "metadata": {
    "collapsed": false,
    "deletable": true,
    "editable": true
   },
   "outputs": [
    {
     "name": "stdout",
     "output_type": "stream",
     "text": [
      "For K =  1 , RMSE =  1.416611044174512\n",
      "Binned RMSE = [ 1.36014705  1.57762128  1.5042175   1.36441853  1.11205515]\n"
     ]
    },
    {
     "data": {
      "image/png": "[encoded data removed]",
      "text/plain": [
       "<matplotlib.figure.Figure at 0x7f1ba3f956d8>"
      ]
     },
     "metadata": {},
     "output_type": "display_data"
    },
    {
     "name": "stdout",
     "output_type": "stream",
     "text": [
      "For K =  2 , RMSE =  1.2164776947286806\n",
      "Binned RMSE = [ 1.31321716  1.43546239  1.2969953   1.15200581  0.98581032]\n"
     ]
    },
    {
     "data": {
      "image/png": "[encoded data removed]",
      "text/plain": [
       "<matplotlib.figure.Figure at 0x7f1baa24b5c0>"
      ]
     },
     "metadata": {},
     "output_type": "display_data"
    },
    {
     "name": "stdout",
     "output_type": "stream",
     "text": [
      "For K =  3 , RMSE =  1.1458335659949233\n",
      "Binned RMSE = [ 1.32348427  1.3561176   1.20764232  1.09419594  0.94116268]\n"
     ]
    },
    {
     "data": {
      "image/png": "[encoded data removed]",
      "text/plain": [
       "<matplotlib.figure.Figure at 0x7f1baa34acf8>"
      ]
     },
     "metadata": {},
     "output_type": "display_data"
    },
    {
     "name": "stdout",
     "output_type": "stream",
     "text": [
      "For K =  5 , RMSE =  1.097782866324411\n",
      "Binned RMSE = [ 1.35668121  1.33512871  1.14098473  1.05195867  0.94002878]\n"
     ]
    },
    {
     "data": {
      "image/png": "[encoded data removed]",
      "text/plain": [
       "<matplotlib.figure.Figure at 0x7f1ba65392b0>"
      ]
     },
     "metadata": {},
     "output_type": "display_data"
    },
    {
     "name": "stdout",
     "output_type": "stream",
     "text": [
      "For K =  10 , RMSE =  1.3387517094251729\n",
      "Binned RMSE = [ 1.55284424  1.86654004  1.32444519  1.23843969  1.64272867]\n"
     ]
    },
    {
     "data": {
      "image/png": "[encoded data removed]",
      "text/plain": [
       "<matplotlib.figure.Figure at 0x7f1baa352080>"
      ]
     },
     "metadata": {},
     "output_type": "display_data"
    }
   ],
   "source": [
    "avg_over_all=Abase.mean()\n",
    "k_list=[1,2,3,5,10]\n",
    "for k_val in k_list:\n",
    "    pred=np.zeros(Atest.shape)\n",
    "    for u in range(0,num_users):\n",
    "        for i in range(0,num_items):\n",
    "            if Atest[u,i]!=0:\n",
    "                #predict for only these values\n",
    "                user_sim=np.zeros(num_items)\n",
    "                user_sim.fill('-inf')\n",
    "                #user_sim[j] stores the similarity of item i with rated item j\n",
    "                count=0\n",
    "                for j in range(0,num_items):\n",
    "                    if Abase[u,j]!=0: #user has already rated this item\n",
    "                        user_sim[j]=np.copy(sim[i,j])\n",
    "                        count+=1\n",
    "                if count==0: #no history for this u,i pair\n",
    "                    pred[u,i]=avg_over_all\n",
    "                else:\n",
    "                    #find the k top values, their indices\n",
    "                    if k_val==1: #find max, it's faster\n",
    "                        index=np.argmax(user_sim)\n",
    "                        pred[u,i]=sim[i,index]*Abase[u,index]/abs(sim[i,index])\n",
    "                    else:\n",
    "                        if count<k_val:\n",
    "                            topk_indices = user_sim.argsort()[-count:][::-1]\n",
    "                        else:\n",
    "                            topk_indices = user_sim.argsort()[-k_val:][::-1]\n",
    "                        t1=0\n",
    "                        t2=0\n",
    "                        for n in topk_indices:\n",
    "                            t1+=sim[i,n]*Abase[u,n]\n",
    "                            t2+=abs(sim[i,n]) #CHECK! is it mod??\n",
    "                        pred[u,i]=t1/t2\n",
    "\n",
    "    RMSE=np.zeros(Atest.shape)\n",
    "    for u in range(0,num_users):\n",
    "        for i in range(0,num_items):\n",
    "            if Atest[u,i]!=0:\n",
    "                RMSE[u,i]=pow((Atest[u,i]-pred[u,i]),2)\n",
    "    RMSE_val=math.sqrt(np.sum(RMSE)/np.count_nonzero(Atest))\n",
    "    print (\"For K = \",k_val,\", RMSE = \",RMSE_val)\n",
    "\n",
    "    #plotting the binned RMSEs\n",
    "\n",
    "    RMSE_binned = np.zeros(5)\n",
    "    for g in range(0, 5):\n",
    "        bin_start = bins[g]\n",
    "        bin_end = bins[g + 1]\n",
    "        # CHECK- to make sure the max is included??\n",
    "        RMSE_int = 0\n",
    "        count = 0\n",
    "        for u in range(0, num_users):\n",
    "            if avg_per_user[u] >= bin_start and avg_per_user[u] < bin_end:\n",
    "                for i in range(0, num_items):\n",
    "                    if Atest[u, i] != 0:\n",
    "                        RMSE_int += pow((Atest[u, i] - pred[u, i]), 2)\n",
    "                        count += 1\n",
    "        RMSE_binned[g] = math.sqrt(RMSE_int / count)\n",
    "    # plot the RSME per user\n",
    "    print (\"Binned RMSE =\",RMSE_binned)\n",
    "    plt.bar(bins[0:5], RMSE_binned, width=0.6, color='blue')\n",
    "    # rounding the bins for labelling the x axis and making the bins for ticks\n",
    "    round_bins = [str(round(bins[i], 1)) + '-' + str(round(bins[i + 1], 1)) for i in range(0, 5)]\n",
    "    plt.xticks(bins, round_bins)\n",
    "    plt.title('KNN- For k='+str(k_val)+', RMSE for binned users')\n",
    "    plt.xlabel('Bins')\n",
    "    plt.ylabel('RMSE for all users in bin')\n",
    "    plt.show()"
   ]
  },
  {
   "cell_type": "code",
   "execution_count": null,
   "metadata": {
    "collapsed": true,
    "deletable": true,
    "editable": true
   },
   "outputs": [],
   "source": []
  }
 ],
 "metadata": {
  "kernelspec": {
   "display_name": "Python 2",
   "language": "python",
   "name": "python2"
  },
  "language_info": {
   "codemirror_mode": {
    "name": "ipython",
    "version": 2
   },
   "file_extension": ".py",
   "mimetype": "text/x-python",
   "name": "python",
   "nbconvert_exporter": "python",
   "pygments_lexer": "ipython2",
   "version": "2.7.13"
  }
 },
 "nbformat": 4,
 "nbformat_minor": 2
}
